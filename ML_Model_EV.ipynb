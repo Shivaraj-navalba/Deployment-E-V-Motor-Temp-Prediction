{
 "cells": [
  {
   "cell_type": "code",
   "execution_count": 1,
   "metadata": {},
   "outputs": [],
   "source": [
    "import pandas as pd\n",
    "import numpy as np\n",
    "import seaborn as sns\n",
    "import matplotlib.pyplot as plt\n",
    "%matplotlib inline\n",
    "\n",
    "# to display all columns\n",
    "pd.set_option(\"display.max_columns\", None)"
   ]
  },
  {
   "cell_type": "code",
   "execution_count": 2,
   "metadata": {},
   "outputs": [],
   "source": [
    "df = pd.read_csv(\"measures_v2.csv\")"
   ]
  },
  {
   "cell_type": "code",
   "execution_count": 3,
   "metadata": {},
   "outputs": [
    {
     "name": "stdout",
     "output_type": "stream",
     "text": [
      "Data-Size\n",
      "Number of Rows : 1330816\n",
      "Number of Columns : 13\n"
     ]
    }
   ],
   "source": [
    "print(\"Data-Size\")\n",
    "print(\"Number of Rows :\",df.shape[0])\n",
    "print(\"Number of Columns :\",df.shape[1])"
   ]
  },
  {
   "cell_type": "markdown",
   "metadata": {},
   "source": [
    "1. u_q: Voltage q-component measurement in dq-coordinates (in V)\n",
    "2. coolant: Coolant temperature (in °C)\n",
    "3. stator_winding: Stator winding temperature (in °C) measured with thermocouples\n",
    "4. u_d: Voltage d-component measurement in dq-coordinates\n",
    "5. stator_tooth: Stator tooth temperature (in °C) measured with thermocouples\n",
    "6. motor_speed: Motor speed (in rpm)\n",
    "7. i_d: Current d-component measurement in dq-coordinates\n",
    "8. i_q: Current q-component measurement in dq-coordinates\n",
    "9. pm: Permanent magnet temperature (in °C) measured with thermocouples and transmitted wirelessly via\n",
    "10. stator_yoke: Stator yoke temperature (in °C) measured with thermocouples\n",
    "11. ambient: Ambient temperature (in °C)\n",
    "12. torque: Motor torque (in Nm)\n",
    "13. profile_id: Measurement session id. Each distinct measurement session can be identified through this integer id.\n",
    "\n",
    "The most interesting target features are rotor temperature (\"pm\"), stator temperatures (\"stator_*\") and torque. Especially rotor temperature and torque are not reliably and economically measurable in a commercial vehicle.\n",
    "\n",
    "Being able to have strong estimators for the rotor temperature helps the automotive industry to manufacture motors with less material and enables control strategies to utilize the motor to its maximum capability.\n",
    "\n",
    "A precise torque estimate leads to more accurate and adequate control of the motor, reducing power losses and eventually heat build-up."
   ]
  },
  {
   "cell_type": "markdown",
   "metadata": {},
   "source": [
    "## Exploratory Data Analysis"
   ]
  },
  {
   "cell_type": "markdown",
   "metadata": {},
   "source": [
    "### Feature Engineering"
   ]
  },
  {
   "cell_type": "markdown",
   "metadata": {},
   "source": [
    "#### Checking for variable names "
   ]
  },
  {
   "cell_type": "code",
   "execution_count": 4,
   "metadata": {},
   "outputs": [
    {
     "data": {
      "text/plain": [
       "Index(['u_q', 'coolant', 'stator_winding', 'u_d', 'stator_tooth',\n",
       "       'motor_speed', 'i_d', 'i_q', 'pm', 'stator_yoke', 'ambient', 'torque',\n",
       "       'profile_id'],\n",
       "      dtype='object')"
      ]
     },
     "execution_count": 4,
     "metadata": {},
     "output_type": "execute_result"
    }
   ],
   "source": [
    "df.columns"
   ]
  },
  {
   "cell_type": "code",
   "execution_count": 5,
   "metadata": {},
   "outputs": [],
   "source": [
    "# we can see that all the variables follows the right naming format\n",
    "# Hence there is not need of renaming the variables"
   ]
  },
  {
   "cell_type": "markdown",
   "metadata": {},
   "source": [
    "#### Checking for datatypes"
   ]
  },
  {
   "cell_type": "code",
   "execution_count": 6,
   "metadata": {},
   "outputs": [
    {
     "data": {
      "text/plain": [
       "u_q               float64\n",
       "coolant           float64\n",
       "stator_winding    float64\n",
       "u_d               float64\n",
       "stator_tooth      float64\n",
       "motor_speed       float64\n",
       "i_d               float64\n",
       "i_q               float64\n",
       "pm                float64\n",
       "stator_yoke       float64\n",
       "ambient           float64\n",
       "torque            float64\n",
       "profile_id          int64\n",
       "dtype: object"
      ]
     },
     "execution_count": 6,
     "metadata": {},
     "output_type": "execute_result"
    }
   ],
   "source": [
    "df.dtypes"
   ]
  },
  {
   "cell_type": "code",
   "execution_count": 7,
   "metadata": {},
   "outputs": [],
   "source": [
    "# we can see that there is no mismatch of datatype in any of the variables\n",
    "# Hence no need of type casting of varibales"
   ]
  },
  {
   "cell_type": "markdown",
   "metadata": {},
   "source": [
    "#### Checking for duplicates records"
   ]
  },
  {
   "cell_type": "code",
   "execution_count": 8,
   "metadata": {},
   "outputs": [
    {
     "data": {
      "text/plain": [
       "0"
      ]
     },
     "execution_count": 8,
     "metadata": {},
     "output_type": "execute_result"
    }
   ],
   "source": [
    "df.duplicated().sum()"
   ]
  },
  {
   "cell_type": "code",
   "execution_count": 9,
   "metadata": {},
   "outputs": [],
   "source": [
    "# we can see that there are no duplicates available in the data"
   ]
  },
  {
   "cell_type": "raw",
   "metadata": {},
   "source": [
    "Encoding is not required as all the variables have numeric datatype"
   ]
  },
  {
   "cell_type": "raw",
   "metadata": {},
   "source": [
    "Numerical variables are usually of 2 type\n",
    "- Continuous Numerical variables\n",
    "- Discrete Numerical Variables"
   ]
  },
  {
   "cell_type": "markdown",
   "metadata": {},
   "source": [
    "#### Discrete Numerical Variables"
   ]
  },
  {
   "cell_type": "code",
   "execution_count": 10,
   "metadata": {},
   "outputs": [
    {
     "name": "stdout",
     "output_type": "stream",
     "text": [
      "Discrete feature count 0\n"
     ]
    }
   ],
   "source": [
    "discrete_features = [feature for feature in df.columns if df[feature].nunique()<25]\n",
    "print('Discrete feature count {}'.format(len(discrete_features)))"
   ]
  },
  {
   "cell_type": "markdown",
   "metadata": {},
   "source": [
    "#### Continuous Numerical Variables"
   ]
  },
  {
   "cell_type": "code",
   "execution_count": 11,
   "metadata": {},
   "outputs": [
    {
     "name": "stdout",
     "output_type": "stream",
     "text": [
      "Continuous feature Count 13\n"
     ]
    },
    {
     "data": {
      "text/html": [
       "<div>\n",
       "<style scoped>\n",
       "    .dataframe tbody tr th:only-of-type {\n",
       "        vertical-align: middle;\n",
       "    }\n",
       "\n",
       "    .dataframe tbody tr th {\n",
       "        vertical-align: top;\n",
       "    }\n",
       "\n",
       "    .dataframe thead th {\n",
       "        text-align: right;\n",
       "    }\n",
       "</style>\n",
       "<table border=\"1\" class=\"dataframe\">\n",
       "  <thead>\n",
       "    <tr style=\"text-align: right;\">\n",
       "      <th></th>\n",
       "      <th>u_q</th>\n",
       "      <th>coolant</th>\n",
       "      <th>stator_winding</th>\n",
       "      <th>u_d</th>\n",
       "      <th>stator_tooth</th>\n",
       "      <th>motor_speed</th>\n",
       "      <th>i_d</th>\n",
       "      <th>i_q</th>\n",
       "      <th>pm</th>\n",
       "      <th>stator_yoke</th>\n",
       "      <th>ambient</th>\n",
       "      <th>torque</th>\n",
       "      <th>profile_id</th>\n",
       "    </tr>\n",
       "  </thead>\n",
       "  <tbody>\n",
       "    <tr>\n",
       "      <th>0</th>\n",
       "      <td>-0.450682</td>\n",
       "      <td>18.805172</td>\n",
       "      <td>19.086670</td>\n",
       "      <td>-0.350055</td>\n",
       "      <td>18.293219</td>\n",
       "      <td>0.002866</td>\n",
       "      <td>0.004419</td>\n",
       "      <td>0.000328</td>\n",
       "      <td>24.554214</td>\n",
       "      <td>18.316547</td>\n",
       "      <td>19.850691</td>\n",
       "      <td>0.187101</td>\n",
       "      <td>17</td>\n",
       "    </tr>\n",
       "    <tr>\n",
       "      <th>1</th>\n",
       "      <td>-0.325737</td>\n",
       "      <td>18.818571</td>\n",
       "      <td>19.092390</td>\n",
       "      <td>-0.305803</td>\n",
       "      <td>18.294807</td>\n",
       "      <td>0.000257</td>\n",
       "      <td>0.000606</td>\n",
       "      <td>-0.000785</td>\n",
       "      <td>24.538078</td>\n",
       "      <td>18.314955</td>\n",
       "      <td>19.850672</td>\n",
       "      <td>0.245417</td>\n",
       "      <td>17</td>\n",
       "    </tr>\n",
       "    <tr>\n",
       "      <th>2</th>\n",
       "      <td>-0.440864</td>\n",
       "      <td>18.828770</td>\n",
       "      <td>19.089380</td>\n",
       "      <td>-0.372503</td>\n",
       "      <td>18.294094</td>\n",
       "      <td>0.002355</td>\n",
       "      <td>0.001290</td>\n",
       "      <td>0.000386</td>\n",
       "      <td>24.544693</td>\n",
       "      <td>18.326307</td>\n",
       "      <td>19.850657</td>\n",
       "      <td>0.176615</td>\n",
       "      <td>17</td>\n",
       "    </tr>\n",
       "    <tr>\n",
       "      <th>3</th>\n",
       "      <td>-0.327026</td>\n",
       "      <td>18.835567</td>\n",
       "      <td>19.083031</td>\n",
       "      <td>-0.316199</td>\n",
       "      <td>18.292542</td>\n",
       "      <td>0.006105</td>\n",
       "      <td>0.000026</td>\n",
       "      <td>0.002046</td>\n",
       "      <td>24.554018</td>\n",
       "      <td>18.330833</td>\n",
       "      <td>19.850647</td>\n",
       "      <td>0.238303</td>\n",
       "      <td>17</td>\n",
       "    </tr>\n",
       "    <tr>\n",
       "      <th>4</th>\n",
       "      <td>-0.471150</td>\n",
       "      <td>18.857033</td>\n",
       "      <td>19.082525</td>\n",
       "      <td>-0.332272</td>\n",
       "      <td>18.291428</td>\n",
       "      <td>0.003133</td>\n",
       "      <td>-0.064317</td>\n",
       "      <td>0.037184</td>\n",
       "      <td>24.565397</td>\n",
       "      <td>18.326662</td>\n",
       "      <td>19.850639</td>\n",
       "      <td>0.208197</td>\n",
       "      <td>17</td>\n",
       "    </tr>\n",
       "  </tbody>\n",
       "</table>\n",
       "</div>"
      ],
      "text/plain": [
       "        u_q    coolant  stator_winding       u_d  stator_tooth  motor_speed  \\\n",
       "0 -0.450682  18.805172       19.086670 -0.350055     18.293219     0.002866   \n",
       "1 -0.325737  18.818571       19.092390 -0.305803     18.294807     0.000257   \n",
       "2 -0.440864  18.828770       19.089380 -0.372503     18.294094     0.002355   \n",
       "3 -0.327026  18.835567       19.083031 -0.316199     18.292542     0.006105   \n",
       "4 -0.471150  18.857033       19.082525 -0.332272     18.291428     0.003133   \n",
       "\n",
       "        i_d       i_q         pm  stator_yoke    ambient    torque  profile_id  \n",
       "0  0.004419  0.000328  24.554214    18.316547  19.850691  0.187101          17  \n",
       "1  0.000606 -0.000785  24.538078    18.314955  19.850672  0.245417          17  \n",
       "2  0.001290  0.000386  24.544693    18.326307  19.850657  0.176615          17  \n",
       "3  0.000026  0.002046  24.554018    18.330833  19.850647  0.238303          17  \n",
       "4 -0.064317  0.037184  24.565397    18.326662  19.850639  0.208197          17  "
      ]
     },
     "execution_count": 11,
     "metadata": {},
     "output_type": "execute_result"
    }
   ],
   "source": [
    "continuous_features = [feature for feature in df.columns if feature not in discrete_features]\n",
    "print(\"Continuous feature Count {}\".format(len(continuous_features)))\n",
    "\n",
    "# display of data with continuous features\n",
    "df[continuous_features].head()"
   ]
  },
  {
   "cell_type": "code",
   "execution_count": 12,
   "metadata": {},
   "outputs": [],
   "source": [
    "# we found that all the variables are Continuous Numerical Variables"
   ]
  },
  {
   "cell_type": "code",
   "execution_count": 13,
   "metadata": {
    "scrolled": true
   },
   "outputs": [
    {
     "data": {
      "image/png": "[encoded data removed]",
      "text/plain": [
       "<Figure size 432x288 with 1 Axes>"
      ]
     },
     "metadata": {
      "needs_background": "light"
     },
     "output_type": "display_data"
    },
    {
     "data": {
      "image/png": "[encoded data removed]",
      "text/plain": [
       "<Figure size 432x288 with 1 Axes>"
      ]
     },
     "metadata": {
      "needs_background": "light"
     },
     "output_type": "display_data"
    },
    {
     "data": {
      "image/png": "[encoded data removed]",
      "text/plain": [
       "<Figure size 432x288 with 1 Axes>"
      ]
     },
     "metadata": {
      "needs_background": "light"
     },
     "output_type": "display_data"
    },
    {
     "data": {
      "image/png": "[encoded data removed]",
      "text/plain": [
       "<Figure size 432x288 with 1 Axes>"
      ]
     },
     "metadata": {
      "needs_background": "light"
     },
     "output_type": "display_data"
    },
    {
     "data": {
      "image/png": "[encoded data removed]",
      "text/plain": [
       "<Figure size 432x288 with 1 Axes>"
      ]
     },
     "metadata": {
      "needs_background": "light"
     },
     "output_type": "display_data"
    },
    {
     "data": {
      "image/png": "[encoded data removed]",
      "text/plain": [
       "<Figure size 432x288 with 1 Axes>"
      ]
     },
     "metadata": {
      "needs_background": "light"
     },
     "output_type": "display_data"
    },
    {
     "data": {
      "image/png": "[encoded data removed]",
      "text/plain": [
       "<Figure size 432x288 with 1 Axes>"
      ]
     },
     "metadata": {
      "needs_background": "light"
     },
     "output_type": "display_data"
    },
    {
     "data": {
      "image/png": "[encoded data removed]",
      "text/plain": [
       "<Figure size 432x288 with 1 Axes>"
      ]
     },
     "metadata": {
      "needs_background": "light"
     },
     "output_type": "display_data"
    },
    {
     "data": {
      "image/png": "[encoded data removed]",
      "text/plain": [
       "<Figure size 432x288 with 1 Axes>"
      ]
     },
     "metadata": {
      "needs_background": "light"
     },
     "output_type": "display_data"
    },
    {
     "data": {
      "image/png": "[encoded data removed]",
      "text/plain": [
       "<Figure size 432x288 with 1 Axes>"
      ]
     },
     "metadata": {
      "needs_background": "light"
     },
     "output_type": "display_data"
    },
    {
     "data": {
      "image/png": "[encoded data removed]",
      "text/plain": [
       "<Figure size 432x288 with 1 Axes>"
      ]
     },
     "metadata": {
      "needs_background": "light"
     },
     "output_type": "display_data"
    },
    {
     "data": {
      "image/png": "[encoded data removed]",
      "text/plain": [
       "<Figure size 432x288 with 1 Axes>"
      ]
     },
     "metadata": {
      "needs_background": "light"
     },
     "output_type": "display_data"
    },
    {
     "data": {
      "image/png": "[encoded data removed]",
      "text/plain": [
       "<Figure size 432x288 with 1 Axes>"
      ]
     },
     "metadata": {
      "needs_background": "light"
     },
     "output_type": "display_data"
    }
   ],
   "source": [
    "## Lets analyse the continuous values by creating histograms to understand the distribution\n",
    "\n",
    "for feature in continuous_features:\n",
    "    data=df.copy()\n",
    "    data[feature].hist(bins=25)\n",
    "    plt.xlabel(feature)\n",
    "    plt.ylabel(\"Count\")\n",
    "    plt.title(feature)\n",
    "    plt.show()"
   ]
  },
  {
   "cell_type": "code",
   "execution_count": 14,
   "metadata": {
    "scrolled": true
   },
   "outputs": [
    {
     "name": "stderr",
     "output_type": "stream",
     "text": [
      "C:\\Users\\PANDA\\anaconda3\\lib\\site-packages\\seaborn\\distributions.py:2551: FutureWarning: `distplot` is a deprecated function and will be removed in a future version. Please adapt your code to use either `displot` (a figure-level function with similar flexibility) or `histplot` (an axes-level function for histograms).\n",
      "  warnings.warn(msg, FutureWarning)\n"
     ]
    },
    {
     "data": {
      "image/png": "[encoded data removed]",
      "text/plain": [
       "<Figure size 720x360 with 1 Axes>"
      ]
     },
     "metadata": {
      "needs_background": "light"
     },
     "output_type": "display_data"
    },
    {
     "name": "stderr",
     "output_type": "stream",
     "text": [
      "C:\\Users\\PANDA\\anaconda3\\lib\\site-packages\\seaborn\\distributions.py:2551: FutureWarning: `distplot` is a deprecated function and will be removed in a future version. Please adapt your code to use either `displot` (a figure-level function with similar flexibility) or `histplot` (an axes-level function for histograms).\n",
      "  warnings.warn(msg, FutureWarning)\n"
     ]
    },
    {
     "data": {
      "image/png": "[encoded data removed]",
      "text/plain": [
       "<Figure size 720x360 with 1 Axes>"
      ]
     },
     "metadata": {
      "needs_background": "light"
     },
     "output_type": "display_data"
    },
    {
     "name": "stderr",
     "output_type": "stream",
     "text": [
      "C:\\Users\\PANDA\\anaconda3\\lib\\site-packages\\seaborn\\distributions.py:2551: FutureWarning: `distplot` is a deprecated function and will be removed in a future version. Please adapt your code to use either `displot` (a figure-level function with similar flexibility) or `histplot` (an axes-level function for histograms).\n",
      "  warnings.warn(msg, FutureWarning)\n"
     ]
    },
    {
     "data": {
      "image/png": "[encoded data removed]",
      "text/plain": [
       "<Figure size 720x360 with 1 Axes>"
      ]
     },
     "metadata": {
      "needs_background": "light"
     },
     "output_type": "display_data"
    },
    {
     "name": "stderr",
     "output_type": "stream",
     "text": [
      "C:\\Users\\PANDA\\anaconda3\\lib\\site-packages\\seaborn\\distributions.py:2551: FutureWarning: `distplot` is a deprecated function and will be removed in a future version. Please adapt your code to use either `displot` (a figure-level function with similar flexibility) or `histplot` (an axes-level function for histograms).\n",
      "  warnings.warn(msg, FutureWarning)\n"
     ]
    },
    {
     "data": {
      "image/png": "[encoded data removed]",
      "text/plain": [
       "<Figure size 720x360 with 1 Axes>"
      ]
     },
     "metadata": {
      "needs_background": "light"
     },
     "output_type": "display_data"
    },
    {
     "name": "stderr",
     "output_type": "stream",
     "text": [
      "C:\\Users\\PANDA\\anaconda3\\lib\\site-packages\\seaborn\\distributions.py:2551: FutureWarning: `distplot` is a deprecated function and will be removed in a future version. Please adapt your code to use either `displot` (a figure-level function with similar flexibility) or `histplot` (an axes-level function for histograms).\n",
      "  warnings.warn(msg, FutureWarning)\n"
     ]
    },
    {
     "data": {
      "image/png": "[encoded data removed]",
      "text/plain": [
       "<Figure size 720x360 with 1 Axes>"
      ]
     },
     "metadata": {
      "needs_background": "light"
     },
     "output_type": "display_data"
    },
    {
     "name": "stderr",
     "output_type": "stream",
     "text": [
      "C:\\Users\\PANDA\\anaconda3\\lib\\site-packages\\seaborn\\distributions.py:2551: FutureWarning: `distplot` is a deprecated function and will be removed in a future version. Please adapt your code to use either `displot` (a figure-level function with similar flexibility) or `histplot` (an axes-level function for histograms).\n",
      "  warnings.warn(msg, FutureWarning)\n"
     ]
    },
    {
     "data": {
      "image/png": "[encoded data removed]",
      "text/plain": [
       "<Figure size 720x360 with 1 Axes>"
      ]
     },
     "metadata": {
      "needs_background": "light"
     },
     "output_type": "display_data"
    },
    {
     "name": "stderr",
     "output_type": "stream",
     "text": [
      "C:\\Users\\PANDA\\anaconda3\\lib\\site-packages\\seaborn\\distributions.py:2551: FutureWarning: `distplot` is a deprecated function and will be removed in a future version. Please adapt your code to use either `displot` (a figure-level function with similar flexibility) or `histplot` (an axes-level function for histograms).\n",
      "  warnings.warn(msg, FutureWarning)\n"
     ]
    },
    {
     "data": {
      "image/png": "[encoded data removed]",
      "text/plain": [
       "<Figure size 720x360 with 1 Axes>"
      ]
     },
     "metadata": {
      "needs_background": "light"
     },
     "output_type": "display_data"
    },
    {
     "name": "stderr",
     "output_type": "stream",
     "text": [
      "C:\\Users\\PANDA\\anaconda3\\lib\\site-packages\\seaborn\\distributions.py:2551: FutureWarning: `distplot` is a deprecated function and will be removed in a future version. Please adapt your code to use either `displot` (a figure-level function with similar flexibility) or `histplot` (an axes-level function for histograms).\n",
      "  warnings.warn(msg, FutureWarning)\n"
     ]
    },
    {
     "data": {
      "image/png": "[encoded data removed]",
      "text/plain": [
       "<Figure size 720x360 with 1 Axes>"
      ]
     },
     "metadata": {
      "needs_background": "light"
     },
     "output_type": "display_data"
    },
    {
     "name": "stderr",
     "output_type": "stream",
     "text": [
      "C:\\Users\\PANDA\\anaconda3\\lib\\site-packages\\seaborn\\distributions.py:2551: FutureWarning: `distplot` is a deprecated function and will be removed in a future version. Please adapt your code to use either `displot` (a figure-level function with similar flexibility) or `histplot` (an axes-level function for histograms).\n",
      "  warnings.warn(msg, FutureWarning)\n"
     ]
    },
    {
     "data": {
      "image/png": "[encoded data removed]",
      "text/plain": [
       "<Figure size 720x360 with 1 Axes>"
      ]
     },
     "metadata": {
      "needs_background": "light"
     },
     "output_type": "display_data"
    },
    {
     "name": "stderr",
     "output_type": "stream",
     "text": [
      "C:\\Users\\PANDA\\anaconda3\\lib\\site-packages\\seaborn\\distributions.py:2551: FutureWarning: `distplot` is a deprecated function and will be removed in a future version. Please adapt your code to use either `displot` (a figure-level function with similar flexibility) or `histplot` (an axes-level function for histograms).\n",
      "  warnings.warn(msg, FutureWarning)\n"
     ]
    },
    {
     "data": {
      "image/png": "[encoded data removed]",
      "text/plain": [
       "<Figure size 720x360 with 1 Axes>"
      ]
     },
     "metadata": {
      "needs_background": "light"
     },
     "output_type": "display_data"
    },
    {
     "name": "stderr",
     "output_type": "stream",
     "text": [
      "C:\\Users\\PANDA\\anaconda3\\lib\\site-packages\\seaborn\\distributions.py:2551: FutureWarning: `distplot` is a deprecated function and will be removed in a future version. Please adapt your code to use either `displot` (a figure-level function with similar flexibility) or `histplot` (an axes-level function for histograms).\n",
      "  warnings.warn(msg, FutureWarning)\n"
     ]
    },
    {
     "data": {
      "image/png": "[encoded data removed]",
      "text/plain": [
       "<Figure size 720x360 with 1 Axes>"
      ]
     },
     "metadata": {
      "needs_background": "light"
     },
     "output_type": "display_data"
    },
    {
     "name": "stderr",
     "output_type": "stream",
     "text": [
      "C:\\Users\\PANDA\\anaconda3\\lib\\site-packages\\seaborn\\distributions.py:2551: FutureWarning: `distplot` is a deprecated function and will be removed in a future version. Please adapt your code to use either `displot` (a figure-level function with similar flexibility) or `histplot` (an axes-level function for histograms).\n",
      "  warnings.warn(msg, FutureWarning)\n"
     ]
    },
    {
     "data": {
      "image/png": "[encoded data removed]",
      "text/plain": [
       "<Figure size 720x360 with 1 Axes>"
      ]
     },
     "metadata": {
      "needs_background": "light"
     },
     "output_type": "display_data"
    },
    {
     "name": "stderr",
     "output_type": "stream",
     "text": [
      "C:\\Users\\PANDA\\anaconda3\\lib\\site-packages\\seaborn\\distributions.py:2551: FutureWarning: `distplot` is a deprecated function and will be removed in a future version. Please adapt your code to use either `displot` (a figure-level function with similar flexibility) or `histplot` (an axes-level function for histograms).\n",
      "  warnings.warn(msg, FutureWarning)\n"
     ]
    },
    {
     "data": {
      "image/png": "[encoded data removed]",
      "text/plain": [
       "<Figure size 720x360 with 1 Axes>"
      ]
     },
     "metadata": {
      "needs_background": "light"
     },
     "output_type": "display_data"
    }
   ],
   "source": [
    "## Checking for distribution and skewness of data\n",
    "\n",
    "import scipy.stats as stats\n",
    "\n",
    "for col in df.columns:\n",
    "    data=df.copy()\n",
    "    plt.figure(figsize=(10,5))\n",
    "    sns.distplot(data[col], label=\"skew: \" + str(np.round(data[col].skew(),2)))\n",
    "    plt.legend()\n",
    "    plt.show()"
   ]
  },
  {
   "cell_type": "code",
   "execution_count": 15,
   "metadata": {},
   "outputs": [],
   "source": [
    "# we can see that data is not following normal distribution fully and for some of the variables skewness is high"
   ]
  },
  {
   "cell_type": "markdown",
   "metadata": {},
   "source": [
    "#### Checking for missing records"
   ]
  },
  {
   "cell_type": "code",
   "execution_count": 16,
   "metadata": {},
   "outputs": [
    {
     "data": {
      "text/plain": [
       "u_q               0\n",
       "coolant           0\n",
       "stator_winding    0\n",
       "u_d               0\n",
       "stator_tooth      0\n",
       "motor_speed       0\n",
       "i_d               0\n",
       "i_q               0\n",
       "pm                0\n",
       "stator_yoke       0\n",
       "ambient           0\n",
       "torque            0\n",
       "profile_id        0\n",
       "dtype: int64"
      ]
     },
     "execution_count": 16,
     "metadata": {},
     "output_type": "execute_result"
    }
   ],
   "source": [
    "df.isnull().sum()"
   ]
  },
  {
   "cell_type": "code",
   "execution_count": 17,
   "metadata": {},
   "outputs": [
    {
     "data": {
      "text/plain": [
       "<AxesSubplot:>"
      ]
     },
     "execution_count": 17,
     "metadata": {},
     "output_type": "execute_result"
    },
    {
     "data": {
      "image/png": "[encoded data removed]",
      "text/plain": [
       "<Figure size 432x288 with 1 Axes>"
      ]
     },
     "metadata": {
      "needs_background": "light"
     },
     "output_type": "display_data"
    }
   ],
   "source": [
    "sns.heatmap(df.isnull(), yticklabels=False, cbar=False, cmap=\"viridis\")"
   ]
  },
  {
   "cell_type": "code",
   "execution_count": 18,
   "metadata": {},
   "outputs": [],
   "source": [
    "# we can see that there are no missings in the data"
   ]
  },
  {
   "cell_type": "markdown",
   "metadata": {},
   "source": [
    "#### 5 Number Summary (Statistical Summary)"
   ]
  },
  {
   "cell_type": "code",
   "execution_count": 19,
   "metadata": {
    "scrolled": true
   },
   "outputs": [
    {
     "data": {
      "text/html": [
       "<div>\n",
       "<style scoped>\n",
       "    .dataframe tbody tr th:only-of-type {\n",
       "        vertical-align: middle;\n",
       "    }\n",
       "\n",
       "    .dataframe tbody tr th {\n",
       "        vertical-align: top;\n",
       "    }\n",
       "\n",
       "    .dataframe thead th {\n",
       "        text-align: right;\n",
       "    }\n",
       "</style>\n",
       "<table border=\"1\" class=\"dataframe\">\n",
       "  <thead>\n",
       "    <tr style=\"text-align: right;\">\n",
       "      <th></th>\n",
       "      <th>u_q</th>\n",
       "      <th>coolant</th>\n",
       "      <th>stator_winding</th>\n",
       "      <th>u_d</th>\n",
       "      <th>stator_tooth</th>\n",
       "      <th>motor_speed</th>\n",
       "      <th>i_d</th>\n",
       "      <th>i_q</th>\n",
       "      <th>pm</th>\n",
       "      <th>stator_yoke</th>\n",
       "      <th>ambient</th>\n",
       "      <th>torque</th>\n",
       "      <th>profile_id</th>\n",
       "    </tr>\n",
       "  </thead>\n",
       "  <tbody>\n",
       "    <tr>\n",
       "      <th>count</th>\n",
       "      <td>1330816.000</td>\n",
       "      <td>1330816.000</td>\n",
       "      <td>1330816.000</td>\n",
       "      <td>1330816.000</td>\n",
       "      <td>1330816.000</td>\n",
       "      <td>1330816.000</td>\n",
       "      <td>1330816.000</td>\n",
       "      <td>1330816.000</td>\n",
       "      <td>1330816.000</td>\n",
       "      <td>1330816.000</td>\n",
       "      <td>1330816.000</td>\n",
       "      <td>1330816.000</td>\n",
       "      <td>1330816.000</td>\n",
       "    </tr>\n",
       "    <tr>\n",
       "      <th>mean</th>\n",
       "      <td>54.279</td>\n",
       "      <td>36.230</td>\n",
       "      <td>66.343</td>\n",
       "      <td>-25.134</td>\n",
       "      <td>56.879</td>\n",
       "      <td>2202.081</td>\n",
       "      <td>-68.717</td>\n",
       "      <td>37.413</td>\n",
       "      <td>58.507</td>\n",
       "      <td>48.188</td>\n",
       "      <td>24.565</td>\n",
       "      <td>31.106</td>\n",
       "      <td>40.793</td>\n",
       "    </tr>\n",
       "    <tr>\n",
       "      <th>std</th>\n",
       "      <td>44.173</td>\n",
       "      <td>21.786</td>\n",
       "      <td>28.672</td>\n",
       "      <td>63.092</td>\n",
       "      <td>22.952</td>\n",
       "      <td>1859.663</td>\n",
       "      <td>64.933</td>\n",
       "      <td>92.182</td>\n",
       "      <td>19.001</td>\n",
       "      <td>19.991</td>\n",
       "      <td>1.930</td>\n",
       "      <td>77.136</td>\n",
       "      <td>25.045</td>\n",
       "    </tr>\n",
       "    <tr>\n",
       "      <th>min</th>\n",
       "      <td>-25.291</td>\n",
       "      <td>10.624</td>\n",
       "      <td>18.586</td>\n",
       "      <td>-131.530</td>\n",
       "      <td>18.134</td>\n",
       "      <td>-275.549</td>\n",
       "      <td>-278.004</td>\n",
       "      <td>-293.427</td>\n",
       "      <td>20.857</td>\n",
       "      <td>18.077</td>\n",
       "      <td>8.783</td>\n",
       "      <td>-246.467</td>\n",
       "      <td>2.000</td>\n",
       "    </tr>\n",
       "    <tr>\n",
       "      <th>25%</th>\n",
       "      <td>12.070</td>\n",
       "      <td>18.698</td>\n",
       "      <td>42.788</td>\n",
       "      <td>-78.691</td>\n",
       "      <td>38.416</td>\n",
       "      <td>317.111</td>\n",
       "      <td>-115.406</td>\n",
       "      <td>1.096</td>\n",
       "      <td>43.152</td>\n",
       "      <td>31.990</td>\n",
       "      <td>23.185</td>\n",
       "      <td>-0.137</td>\n",
       "      <td>17.000</td>\n",
       "    </tr>\n",
       "    <tr>\n",
       "      <th>50%</th>\n",
       "      <td>48.938</td>\n",
       "      <td>26.900</td>\n",
       "      <td>65.110</td>\n",
       "      <td>-7.430</td>\n",
       "      <td>56.036</td>\n",
       "      <td>1999.977</td>\n",
       "      <td>-51.094</td>\n",
       "      <td>15.774</td>\n",
       "      <td>60.266</td>\n",
       "      <td>45.626</td>\n",
       "      <td>24.797</td>\n",
       "      <td>10.860</td>\n",
       "      <td>43.000</td>\n",
       "    </tr>\n",
       "    <tr>\n",
       "      <th>75%</th>\n",
       "      <td>90.034</td>\n",
       "      <td>49.857</td>\n",
       "      <td>88.141</td>\n",
       "      <td>1.470</td>\n",
       "      <td>75.587</td>\n",
       "      <td>3760.639</td>\n",
       "      <td>-2.980</td>\n",
       "      <td>100.612</td>\n",
       "      <td>72.008</td>\n",
       "      <td>61.461</td>\n",
       "      <td>26.217</td>\n",
       "      <td>91.597</td>\n",
       "      <td>65.000</td>\n",
       "    </tr>\n",
       "    <tr>\n",
       "      <th>max</th>\n",
       "      <td>133.037</td>\n",
       "      <td>101.599</td>\n",
       "      <td>141.363</td>\n",
       "      <td>131.470</td>\n",
       "      <td>111.946</td>\n",
       "      <td>6000.015</td>\n",
       "      <td>0.052</td>\n",
       "      <td>301.708</td>\n",
       "      <td>113.607</td>\n",
       "      <td>101.148</td>\n",
       "      <td>30.714</td>\n",
       "      <td>261.006</td>\n",
       "      <td>81.000</td>\n",
       "    </tr>\n",
       "  </tbody>\n",
       "</table>\n",
       "</div>"
      ],
      "text/plain": [
       "               u_q      coolant  stator_winding          u_d  stator_tooth  \\\n",
       "count  1330816.000  1330816.000     1330816.000  1330816.000   1330816.000   \n",
       "mean        54.279       36.230          66.343      -25.134        56.879   \n",
       "std         44.173       21.786          28.672       63.092        22.952   \n",
       "min        -25.291       10.624          18.586     -131.530        18.134   \n",
       "25%         12.070       18.698          42.788      -78.691        38.416   \n",
       "50%         48.938       26.900          65.110       -7.430        56.036   \n",
       "75%         90.034       49.857          88.141        1.470        75.587   \n",
       "max        133.037      101.599         141.363      131.470       111.946   \n",
       "\n",
       "       motor_speed          i_d          i_q           pm  stator_yoke  \\\n",
       "count  1330816.000  1330816.000  1330816.000  1330816.000  1330816.000   \n",
       "mean      2202.081      -68.717       37.413       58.507       48.188   \n",
       "std       1859.663       64.933       92.182       19.001       19.991   \n",
       "min       -275.549     -278.004     -293.427       20.857       18.077   \n",
       "25%        317.111     -115.406        1.096       43.152       31.990   \n",
       "50%       1999.977      -51.094       15.774       60.266       45.626   \n",
       "75%       3760.639       -2.980      100.612       72.008       61.461   \n",
       "max       6000.015        0.052      301.708      113.607      101.148   \n",
       "\n",
       "           ambient       torque   profile_id  \n",
       "count  1330816.000  1330816.000  1330816.000  \n",
       "mean        24.565       31.106       40.793  \n",
       "std          1.930       77.136       25.045  \n",
       "min          8.783     -246.467        2.000  \n",
       "25%         23.185       -0.137       17.000  \n",
       "50%         24.797       10.860       43.000  \n",
       "75%         26.217       91.597       65.000  \n",
       "max         30.714      261.006       81.000  "
      ]
     },
     "execution_count": 19,
     "metadata": {},
     "output_type": "execute_result"
    }
   ],
   "source": [
    "df.describe().round(3) # round off to 3 digits"
   ]
  },
  {
   "cell_type": "markdown",
   "metadata": {},
   "source": [
    "#### Checking for outliers"
   ]
  },
  {
   "cell_type": "code",
   "execution_count": 20,
   "metadata": {},
   "outputs": [
    {
     "name": "stderr",
     "output_type": "stream",
     "text": [
      "C:\\Users\\PANDA\\anaconda3\\lib\\site-packages\\seaborn\\_decorators.py:36: FutureWarning: Pass the following variable as a keyword arg: x. From version 0.12, the only valid positional argument will be `data`, and passing other arguments without an explicit keyword will result in an error or misinterpretation.\n",
      "  warnings.warn(\n"
     ]
    },
    {
     "data": {
      "image/png": "[encoded data removed]",
      "text/plain": [
       "<Figure size 432x288 with 1 Axes>"
      ]
     },
     "metadata": {
      "needs_background": "light"
     },
     "output_type": "display_data"
    },
    {
     "name": "stderr",
     "output_type": "stream",
     "text": [
      "C:\\Users\\PANDA\\anaconda3\\lib\\site-packages\\seaborn\\_decorators.py:36: FutureWarning: Pass the following variable as a keyword arg: x. From version 0.12, the only valid positional argument will be `data`, and passing other arguments without an explicit keyword will result in an error or misinterpretation.\n",
      "  warnings.warn(\n"
     ]
    },
    {
     "data": {
      "image/png": "[encoded data removed]",
      "text/plain": [
       "<Figure size 432x288 with 1 Axes>"
      ]
     },
     "metadata": {
      "needs_background": "light"
     },
     "output_type": "display_data"
    },
    {
     "name": "stderr",
     "output_type": "stream",
     "text": [
      "C:\\Users\\PANDA\\anaconda3\\lib\\site-packages\\seaborn\\_decorators.py:36: FutureWarning: Pass the following variable as a keyword arg: x. From version 0.12, the only valid positional argument will be `data`, and passing other arguments without an explicit keyword will result in an error or misinterpretation.\n",
      "  warnings.warn(\n"
     ]
    },
    {
     "data": {
      "image/png": "[encoded data removed]",
      "text/plain": [
       "<Figure size 432x288 with 1 Axes>"
      ]
     },
     "metadata": {
      "needs_background": "light"
     },
     "output_type": "display_data"
    },
    {
     "name": "stderr",
     "output_type": "stream",
     "text": [
      "C:\\Users\\PANDA\\anaconda3\\lib\\site-packages\\seaborn\\_decorators.py:36: FutureWarning: Pass the following variable as a keyword arg: x. From version 0.12, the only valid positional argument will be `data`, and passing other arguments without an explicit keyword will result in an error or misinterpretation.\n",
      "  warnings.warn(\n"
     ]
    },
    {
     "data": {
      "image/png": "[encoded data removed]",
      "text/plain": [
       "<Figure size 432x288 with 1 Axes>"
      ]
     },
     "metadata": {
      "needs_background": "light"
     },
     "output_type": "display_data"
    },
    {
     "name": "stderr",
     "output_type": "stream",
     "text": [
      "C:\\Users\\PANDA\\anaconda3\\lib\\site-packages\\seaborn\\_decorators.py:36: FutureWarning: Pass the following variable as a keyword arg: x. From version 0.12, the only valid positional argument will be `data`, and passing other arguments without an explicit keyword will result in an error or misinterpretation.\n",
      "  warnings.warn(\n"
     ]
    },
    {
     "data": {
      "image/png": "[encoded data removed]",
      "text/plain": [
       "<Figure size 432x288 with 1 Axes>"
      ]
     },
     "metadata": {
      "needs_background": "light"
     },
     "output_type": "display_data"
    },
    {
     "name": "stderr",
     "output_type": "stream",
     "text": [
      "C:\\Users\\PANDA\\anaconda3\\lib\\site-packages\\seaborn\\_decorators.py:36: FutureWarning: Pass the following variable as a keyword arg: x. From version 0.12, the only valid positional argument will be `data`, and passing other arguments without an explicit keyword will result in an error or misinterpretation.\n",
      "  warnings.warn(\n"
     ]
    },
    {
     "data": {
      "image/png": "[encoded data removed]",
      "text/plain": [
       "<Figure size 432x288 with 1 Axes>"
      ]
     },
     "metadata": {
      "needs_background": "light"
     },
     "output_type": "display_data"
    },
    {
     "name": "stderr",
     "output_type": "stream",
     "text": [
      "C:\\Users\\PANDA\\anaconda3\\lib\\site-packages\\seaborn\\_decorators.py:36: FutureWarning: Pass the following variable as a keyword arg: x. From version 0.12, the only valid positional argument will be `data`, and passing other arguments without an explicit keyword will result in an error or misinterpretation.\n",
      "  warnings.warn(\n"
     ]
    },
    {
     "data": {
      "image/png": "[encoded data removed]",
      "text/plain": [
       "<Figure size 432x288 with 1 Axes>"
      ]
     },
     "metadata": {
      "needs_background": "light"
     },
     "output_type": "display_data"
    },
    {
     "name": "stderr",
     "output_type": "stream",
     "text": [
      "C:\\Users\\PANDA\\anaconda3\\lib\\site-packages\\seaborn\\_decorators.py:36: FutureWarning: Pass the following variable as a keyword arg: x. From version 0.12, the only valid positional argument will be `data`, and passing other arguments without an explicit keyword will result in an error or misinterpretation.\n",
      "  warnings.warn(\n"
     ]
    },
    {
     "data": {
      "image/png": "[encoded data removed]",
      "text/plain": [
       "<Figure size 432x288 with 1 Axes>"
      ]
     },
     "metadata": {
      "needs_background": "light"
     },
     "output_type": "display_data"
    },
    {
     "name": "stderr",
     "output_type": "stream",
     "text": [
      "C:\\Users\\PANDA\\anaconda3\\lib\\site-packages\\seaborn\\_decorators.py:36: FutureWarning: Pass the following variable as a keyword arg: x. From version 0.12, the only valid positional argument will be `data`, and passing other arguments without an explicit keyword will result in an error or misinterpretation.\n",
      "  warnings.warn(\n"
     ]
    },
    {
     "data": {
      "image/png": "[encoded data removed]",
      "text/plain": [
       "<Figure size 432x288 with 1 Axes>"
      ]
     },
     "metadata": {
      "needs_background": "light"
     },
     "output_type": "display_data"
    },
    {
     "name": "stderr",
     "output_type": "stream",
     "text": [
      "C:\\Users\\PANDA\\anaconda3\\lib\\site-packages\\seaborn\\_decorators.py:36: FutureWarning: Pass the following variable as a keyword arg: x. From version 0.12, the only valid positional argument will be `data`, and passing other arguments without an explicit keyword will result in an error or misinterpretation.\n",
      "  warnings.warn(\n"
     ]
    },
    {
     "data": {
      "image/png": "[encoded data removed]",
      "text/plain": [
       "<Figure size 432x288 with 1 Axes>"
      ]
     },
     "metadata": {
      "needs_background": "light"
     },
     "output_type": "display_data"
    },
    {
     "name": "stderr",
     "output_type": "stream",
     "text": [
      "C:\\Users\\PANDA\\anaconda3\\lib\\site-packages\\seaborn\\_decorators.py:36: FutureWarning: Pass the following variable as a keyword arg: x. From version 0.12, the only valid positional argument will be `data`, and passing other arguments without an explicit keyword will result in an error or misinterpretation.\n",
      "  warnings.warn(\n"
     ]
    },
    {
     "data": {
      "image/png": "[encoded data removed]",
      "text/plain": [
       "<Figure size 432x288 with 1 Axes>"
      ]
     },
     "metadata": {
      "needs_background": "light"
     },
     "output_type": "display_data"
    },
    {
     "name": "stderr",
     "output_type": "stream",
     "text": [
      "C:\\Users\\PANDA\\anaconda3\\lib\\site-packages\\seaborn\\_decorators.py:36: FutureWarning: Pass the following variable as a keyword arg: x. From version 0.12, the only valid positional argument will be `data`, and passing other arguments without an explicit keyword will result in an error or misinterpretation.\n",
      "  warnings.warn(\n"
     ]
    },
    {
     "data": {
      "image/png": "[encoded data removed]",
      "text/plain": [
       "<Figure size 432x288 with 1 Axes>"
      ]
     },
     "metadata": {
      "needs_background": "light"
     },
     "output_type": "display_data"
    },
    {
     "name": "stderr",
     "output_type": "stream",
     "text": [
      "C:\\Users\\PANDA\\anaconda3\\lib\\site-packages\\seaborn\\_decorators.py:36: FutureWarning: Pass the following variable as a keyword arg: x. From version 0.12, the only valid positional argument will be `data`, and passing other arguments without an explicit keyword will result in an error or misinterpretation.\n",
      "  warnings.warn(\n"
     ]
    },
    {
     "data": {
      "image/png": "[encoded data removed]",
      "text/plain": [
       "<Figure size 432x288 with 1 Axes>"
      ]
     },
     "metadata": {
      "needs_background": "light"
     },
     "output_type": "display_data"
    }
   ],
   "source": [
    "for col in df.columns:\n",
    "    data=df.copy()\n",
    "    sns.boxplot(data[col])\n",
    "    plt.show()"
   ]
  },
  {
   "cell_type": "code",
   "execution_count": 21,
   "metadata": {},
   "outputs": [],
   "source": [
    "# will drop the variable \"profile_id\" as it contains just an idetifier integers number(id's)\n",
    "df.drop([\"profile_id\"], axis=1, inplace=True)"
   ]
  },
  {
   "cell_type": "code",
   "execution_count": 22,
   "metadata": {},
   "outputs": [
    {
     "data": {
      "text/html": [
       "<div>\n",
       "<style scoped>\n",
       "    .dataframe tbody tr th:only-of-type {\n",
       "        vertical-align: middle;\n",
       "    }\n",
       "\n",
       "    .dataframe tbody tr th {\n",
       "        vertical-align: top;\n",
       "    }\n",
       "\n",
       "    .dataframe thead th {\n",
       "        text-align: right;\n",
       "    }\n",
       "</style>\n",
       "<table border=\"1\" class=\"dataframe\">\n",
       "  <thead>\n",
       "    <tr style=\"text-align: right;\">\n",
       "      <th></th>\n",
       "      <th>u_q</th>\n",
       "      <th>coolant</th>\n",
       "      <th>stator_winding</th>\n",
       "      <th>u_d</th>\n",
       "      <th>stator_tooth</th>\n",
       "      <th>motor_speed</th>\n",
       "      <th>i_d</th>\n",
       "      <th>i_q</th>\n",
       "      <th>pm</th>\n",
       "      <th>stator_yoke</th>\n",
       "      <th>ambient</th>\n",
       "      <th>torque</th>\n",
       "    </tr>\n",
       "  </thead>\n",
       "  <tbody>\n",
       "    <tr>\n",
       "      <th>0</th>\n",
       "      <td>-0.450682</td>\n",
       "      <td>18.805172</td>\n",
       "      <td>19.086670</td>\n",
       "      <td>-0.350055</td>\n",
       "      <td>18.293219</td>\n",
       "      <td>0.002866</td>\n",
       "      <td>0.004419</td>\n",
       "      <td>0.000328</td>\n",
       "      <td>24.554214</td>\n",
       "      <td>18.316547</td>\n",
       "      <td>19.850691</td>\n",
       "      <td>0.187101</td>\n",
       "    </tr>\n",
       "    <tr>\n",
       "      <th>1</th>\n",
       "      <td>-0.325737</td>\n",
       "      <td>18.818571</td>\n",
       "      <td>19.092390</td>\n",
       "      <td>-0.305803</td>\n",
       "      <td>18.294807</td>\n",
       "      <td>0.000257</td>\n",
       "      <td>0.000606</td>\n",
       "      <td>-0.000785</td>\n",
       "      <td>24.538078</td>\n",
       "      <td>18.314955</td>\n",
       "      <td>19.850672</td>\n",
       "      <td>0.245417</td>\n",
       "    </tr>\n",
       "    <tr>\n",
       "      <th>2</th>\n",
       "      <td>-0.440864</td>\n",
       "      <td>18.828770</td>\n",
       "      <td>19.089380</td>\n",
       "      <td>-0.372503</td>\n",
       "      <td>18.294094</td>\n",
       "      <td>0.002355</td>\n",
       "      <td>0.001290</td>\n",
       "      <td>0.000386</td>\n",
       "      <td>24.544693</td>\n",
       "      <td>18.326307</td>\n",
       "      <td>19.850657</td>\n",
       "      <td>0.176615</td>\n",
       "    </tr>\n",
       "    <tr>\n",
       "      <th>3</th>\n",
       "      <td>-0.327026</td>\n",
       "      <td>18.835567</td>\n",
       "      <td>19.083031</td>\n",
       "      <td>-0.316199</td>\n",
       "      <td>18.292542</td>\n",
       "      <td>0.006105</td>\n",
       "      <td>0.000026</td>\n",
       "      <td>0.002046</td>\n",
       "      <td>24.554018</td>\n",
       "      <td>18.330833</td>\n",
       "      <td>19.850647</td>\n",
       "      <td>0.238303</td>\n",
       "    </tr>\n",
       "    <tr>\n",
       "      <th>4</th>\n",
       "      <td>-0.471150</td>\n",
       "      <td>18.857033</td>\n",
       "      <td>19.082525</td>\n",
       "      <td>-0.332272</td>\n",
       "      <td>18.291428</td>\n",
       "      <td>0.003133</td>\n",
       "      <td>-0.064317</td>\n",
       "      <td>0.037184</td>\n",
       "      <td>24.565397</td>\n",
       "      <td>18.326662</td>\n",
       "      <td>19.850639</td>\n",
       "      <td>0.208197</td>\n",
       "    </tr>\n",
       "  </tbody>\n",
       "</table>\n",
       "</div>"
      ],
      "text/plain": [
       "        u_q    coolant  stator_winding       u_d  stator_tooth  motor_speed  \\\n",
       "0 -0.450682  18.805172       19.086670 -0.350055     18.293219     0.002866   \n",
       "1 -0.325737  18.818571       19.092390 -0.305803     18.294807     0.000257   \n",
       "2 -0.440864  18.828770       19.089380 -0.372503     18.294094     0.002355   \n",
       "3 -0.327026  18.835567       19.083031 -0.316199     18.292542     0.006105   \n",
       "4 -0.471150  18.857033       19.082525 -0.332272     18.291428     0.003133   \n",
       "\n",
       "        i_d       i_q         pm  stator_yoke    ambient    torque  \n",
       "0  0.004419  0.000328  24.554214    18.316547  19.850691  0.187101  \n",
       "1  0.000606 -0.000785  24.538078    18.314955  19.850672  0.245417  \n",
       "2  0.001290  0.000386  24.544693    18.326307  19.850657  0.176615  \n",
       "3  0.000026  0.002046  24.554018    18.330833  19.850647  0.238303  \n",
       "4 -0.064317  0.037184  24.565397    18.326662  19.850639  0.208197  "
      ]
     },
     "execution_count": 22,
     "metadata": {},
     "output_type": "execute_result"
    }
   ],
   "source": [
    "df.head()"
   ]
  },
  {
   "cell_type": "markdown",
   "metadata": {},
   "source": [
    "#### Capping using IQR method"
   ]
  },
  {
   "cell_type": "code",
   "execution_count": 23,
   "metadata": {},
   "outputs": [],
   "source": [
    "df_cap = df.copy()"
   ]
  },
  {
   "cell_type": "code",
   "execution_count": 24,
   "metadata": {},
   "outputs": [],
   "source": [
    "def iqr_capping(df, cols, factor):\n",
    "    \n",
    "    for col in cols:\n",
    "        \n",
    "        q1 = df[col].quantile(0.25)\n",
    "        q3 = df[col].quantile(0.75)\n",
    "        \n",
    "        iqr = q3 - q1\n",
    "        \n",
    "        upper_whisker = q3 + (factor*iqr)\n",
    "        lower_whisker = q1 - (factor*iqr)\n",
    "        \n",
    "        df[col] = np.where(df[col]>upper_whisker, upper_whisker,\n",
    "                 np.where(df[col]<lower_whisker, lower_whisker, df[col]))"
   ]
  },
  {
   "cell_type": "code",
   "execution_count": 25,
   "metadata": {},
   "outputs": [],
   "source": [
    "target = df_cap.torque"
   ]
  },
  {
   "cell_type": "code",
   "execution_count": 26,
   "metadata": {},
   "outputs": [],
   "source": [
    "features = df_cap[df_cap.columns.difference([\"torque\"])]"
   ]
  },
  {
   "cell_type": "code",
   "execution_count": 27,
   "metadata": {},
   "outputs": [],
   "source": [
    "iqr_capping(df_cap, features, 1.5)"
   ]
  },
  {
   "cell_type": "code",
   "execution_count": 28,
   "metadata": {
    "scrolled": true
   },
   "outputs": [
    {
     "name": "stderr",
     "output_type": "stream",
     "text": [
      "C:\\Users\\PANDA\\anaconda3\\lib\\site-packages\\seaborn\\_decorators.py:36: FutureWarning: Pass the following variable as a keyword arg: x. From version 0.12, the only valid positional argument will be `data`, and passing other arguments without an explicit keyword will result in an error or misinterpretation.\n",
      "  warnings.warn(\n"
     ]
    },
    {
     "data": {
      "image/png": "[encoded data removed]",
      "text/plain": [
       "<Figure size 432x288 with 1 Axes>"
      ]
     },
     "metadata": {
      "needs_background": "light"
     },
     "output_type": "display_data"
    },
    {
     "name": "stderr",
     "output_type": "stream",
     "text": [
      "C:\\Users\\PANDA\\anaconda3\\lib\\site-packages\\seaborn\\_decorators.py:36: FutureWarning: Pass the following variable as a keyword arg: x. From version 0.12, the only valid positional argument will be `data`, and passing other arguments without an explicit keyword will result in an error or misinterpretation.\n",
      "  warnings.warn(\n"
     ]
    },
    {
     "data": {
      "image/png": "[encoded data removed]",
      "text/plain": [
       "<Figure size 432x288 with 1 Axes>"
      ]
     },
     "metadata": {
      "needs_background": "light"
     },
     "output_type": "display_data"
    },
    {
     "name": "stderr",
     "output_type": "stream",
     "text": [
      "C:\\Users\\PANDA\\anaconda3\\lib\\site-packages\\seaborn\\_decorators.py:36: FutureWarning: Pass the following variable as a keyword arg: x. From version 0.12, the only valid positional argument will be `data`, and passing other arguments without an explicit keyword will result in an error or misinterpretation.\n",
      "  warnings.warn(\n"
     ]
    },
    {
     "data": {
      "image/png": "[encoded data removed]",
      "text/plain": [
       "<Figure size 432x288 with 1 Axes>"
      ]
     },
     "metadata": {
      "needs_background": "light"
     },
     "output_type": "display_data"
    },
    {
     "name": "stderr",
     "output_type": "stream",
     "text": [
      "C:\\Users\\PANDA\\anaconda3\\lib\\site-packages\\seaborn\\_decorators.py:36: FutureWarning: Pass the following variable as a keyword arg: x. From version 0.12, the only valid positional argument will be `data`, and passing other arguments without an explicit keyword will result in an error or misinterpretation.\n",
      "  warnings.warn(\n"
     ]
    },
    {
     "data": {
      "image/png": "[encoded data removed]",
      "text/plain": [
       "<Figure size 432x288 with 1 Axes>"
      ]
     },
     "metadata": {
      "needs_background": "light"
     },
     "output_type": "display_data"
    },
    {
     "name": "stderr",
     "output_type": "stream",
     "text": [
      "C:\\Users\\PANDA\\anaconda3\\lib\\site-packages\\seaborn\\_decorators.py:36: FutureWarning: Pass the following variable as a keyword arg: x. From version 0.12, the only valid positional argument will be `data`, and passing other arguments without an explicit keyword will result in an error or misinterpretation.\n",
      "  warnings.warn(\n"
     ]
    },
    {
     "data": {
      "image/png": "[encoded data removed]",
      "text/plain": [
       "<Figure size 432x288 with 1 Axes>"
      ]
     },
     "metadata": {
      "needs_background": "light"
     },
     "output_type": "display_data"
    },
    {
     "name": "stderr",
     "output_type": "stream",
     "text": [
      "C:\\Users\\PANDA\\anaconda3\\lib\\site-packages\\seaborn\\_decorators.py:36: FutureWarning: Pass the following variable as a keyword arg: x. From version 0.12, the only valid positional argument will be `data`, and passing other arguments without an explicit keyword will result in an error or misinterpretation.\n",
      "  warnings.warn(\n"
     ]
    },
    {
     "data": {
      "image/png": "[encoded data removed]",
      "text/plain": [
       "<Figure size 432x288 with 1 Axes>"
      ]
     },
     "metadata": {
      "needs_background": "light"
     },
     "output_type": "display_data"
    },
    {
     "name": "stderr",
     "output_type": "stream",
     "text": [
      "C:\\Users\\PANDA\\anaconda3\\lib\\site-packages\\seaborn\\_decorators.py:36: FutureWarning: Pass the following variable as a keyword arg: x. From version 0.12, the only valid positional argument will be `data`, and passing other arguments without an explicit keyword will result in an error or misinterpretation.\n",
      "  warnings.warn(\n"
     ]
    },
    {
     "data": {
      "image/png": "[encoded data removed]",
      "text/plain": [
       "<Figure size 432x288 with 1 Axes>"
      ]
     },
     "metadata": {
      "needs_background": "light"
     },
     "output_type": "display_data"
    },
    {
     "name": "stderr",
     "output_type": "stream",
     "text": [
      "C:\\Users\\PANDA\\anaconda3\\lib\\site-packages\\seaborn\\_decorators.py:36: FutureWarning: Pass the following variable as a keyword arg: x. From version 0.12, the only valid positional argument will be `data`, and passing other arguments without an explicit keyword will result in an error or misinterpretation.\n",
      "  warnings.warn(\n"
     ]
    },
    {
     "data": {
      "image/png": "[encoded data removed]",
      "text/plain": [
       "<Figure size 432x288 with 1 Axes>"
      ]
     },
     "metadata": {
      "needs_background": "light"
     },
     "output_type": "display_data"
    },
    {
     "name": "stderr",
     "output_type": "stream",
     "text": [
      "C:\\Users\\PANDA\\anaconda3\\lib\\site-packages\\seaborn\\_decorators.py:36: FutureWarning: Pass the following variable as a keyword arg: x. From version 0.12, the only valid positional argument will be `data`, and passing other arguments without an explicit keyword will result in an error or misinterpretation.\n",
      "  warnings.warn(\n"
     ]
    },
    {
     "data": {
      "image/png": "[encoded data removed]",
      "text/plain": [
       "<Figure size 432x288 with 1 Axes>"
      ]
     },
     "metadata": {
      "needs_background": "light"
     },
     "output_type": "display_data"
    },
    {
     "name": "stderr",
     "output_type": "stream",
     "text": [
      "C:\\Users\\PANDA\\anaconda3\\lib\\site-packages\\seaborn\\_decorators.py:36: FutureWarning: Pass the following variable as a keyword arg: x. From version 0.12, the only valid positional argument will be `data`, and passing other arguments without an explicit keyword will result in an error or misinterpretation.\n",
      "  warnings.warn(\n"
     ]
    },
    {
     "data": {
      "image/png": "[encoded data removed]",
      "text/plain": [
       "<Figure size 432x288 with 1 Axes>"
      ]
     },
     "metadata": {
      "needs_background": "light"
     },
     "output_type": "display_data"
    },
    {
     "name": "stderr",
     "output_type": "stream",
     "text": [
      "C:\\Users\\PANDA\\anaconda3\\lib\\site-packages\\seaborn\\_decorators.py:36: FutureWarning: Pass the following variable as a keyword arg: x. From version 0.12, the only valid positional argument will be `data`, and passing other arguments without an explicit keyword will result in an error or misinterpretation.\n",
      "  warnings.warn(\n"
     ]
    },
    {
     "data": {
      "image/png": "[encoded data removed]",
      "text/plain": [
       "<Figure size 432x288 with 1 Axes>"
      ]
     },
     "metadata": {
      "needs_background": "light"
     },
     "output_type": "display_data"
    },
    {
     "name": "stderr",
     "output_type": "stream",
     "text": [
      "C:\\Users\\PANDA\\anaconda3\\lib\\site-packages\\seaborn\\_decorators.py:36: FutureWarning: Pass the following variable as a keyword arg: x. From version 0.12, the only valid positional argument will be `data`, and passing other arguments without an explicit keyword will result in an error or misinterpretation.\n",
      "  warnings.warn(\n"
     ]
    },
    {
     "data": {
      "image/png": "[encoded data removed]",
      "text/plain": [
       "<Figure size 432x288 with 1 Axes>"
      ]
     },
     "metadata": {
      "needs_background": "light"
     },
     "output_type": "display_data"
    }
   ],
   "source": [
    "for col in df_cap.columns:\n",
    "    data=df_cap.copy()\n",
    "    sns.boxplot(data[col])\n",
    "    plt.show()"
   ]
  },
  {
   "cell_type": "code",
   "execution_count": 29,
   "metadata": {},
   "outputs": [
    {
     "data": {
      "text/html": [
       "<div>\n",
       "<style scoped>\n",
       "    .dataframe tbody tr th:only-of-type {\n",
       "        vertical-align: middle;\n",
       "    }\n",
       "\n",
       "    .dataframe tbody tr th {\n",
       "        vertical-align: top;\n",
       "    }\n",
       "\n",
       "    .dataframe thead th {\n",
       "        text-align: right;\n",
       "    }\n",
       "</style>\n",
       "<table border=\"1\" class=\"dataframe\">\n",
       "  <thead>\n",
       "    <tr style=\"text-align: right;\">\n",
       "      <th></th>\n",
       "      <th>u_q</th>\n",
       "      <th>coolant</th>\n",
       "      <th>stator_winding</th>\n",
       "      <th>u_d</th>\n",
       "      <th>stator_tooth</th>\n",
       "      <th>motor_speed</th>\n",
       "      <th>i_d</th>\n",
       "      <th>i_q</th>\n",
       "      <th>pm</th>\n",
       "      <th>stator_yoke</th>\n",
       "      <th>ambient</th>\n",
       "      <th>torque</th>\n",
       "    </tr>\n",
       "  </thead>\n",
       "  <tbody>\n",
       "    <tr>\n",
       "      <th>count</th>\n",
       "      <td>1330816.000</td>\n",
       "      <td>1330816.000</td>\n",
       "      <td>1330816.000</td>\n",
       "      <td>1330816.000</td>\n",
       "      <td>1330816.000</td>\n",
       "      <td>1330816.000</td>\n",
       "      <td>1330816.000</td>\n",
       "      <td>1330816.000</td>\n",
       "      <td>1330816.000</td>\n",
       "      <td>1330816.000</td>\n",
       "      <td>1330816.000</td>\n",
       "      <td>1330816.000</td>\n",
       "    </tr>\n",
       "    <tr>\n",
       "      <th>mean</th>\n",
       "      <td>54.279</td>\n",
       "      <td>36.230</td>\n",
       "      <td>66.343</td>\n",
       "      <td>-25.194</td>\n",
       "      <td>56.879</td>\n",
       "      <td>2202.081</td>\n",
       "      <td>-68.717</td>\n",
       "      <td>38.744</td>\n",
       "      <td>58.507</td>\n",
       "      <td>48.188</td>\n",
       "      <td>24.565</td>\n",
       "      <td>31.106</td>\n",
       "    </tr>\n",
       "    <tr>\n",
       "      <th>std</th>\n",
       "      <td>44.173</td>\n",
       "      <td>21.786</td>\n",
       "      <td>28.672</td>\n",
       "      <td>62.949</td>\n",
       "      <td>22.952</td>\n",
       "      <td>1859.663</td>\n",
       "      <td>64.933</td>\n",
       "      <td>87.195</td>\n",
       "      <td>19.001</td>\n",
       "      <td>19.991</td>\n",
       "      <td>1.929</td>\n",
       "      <td>77.136</td>\n",
       "    </tr>\n",
       "    <tr>\n",
       "      <th>min</th>\n",
       "      <td>-25.291</td>\n",
       "      <td>10.624</td>\n",
       "      <td>18.586</td>\n",
       "      <td>-131.530</td>\n",
       "      <td>18.134</td>\n",
       "      <td>-275.549</td>\n",
       "      <td>-278.004</td>\n",
       "      <td>-148.179</td>\n",
       "      <td>20.857</td>\n",
       "      <td>18.077</td>\n",
       "      <td>18.636</td>\n",
       "      <td>-246.467</td>\n",
       "    </tr>\n",
       "    <tr>\n",
       "      <th>25%</th>\n",
       "      <td>12.070</td>\n",
       "      <td>18.698</td>\n",
       "      <td>42.788</td>\n",
       "      <td>-78.691</td>\n",
       "      <td>38.416</td>\n",
       "      <td>317.111</td>\n",
       "      <td>-115.406</td>\n",
       "      <td>1.096</td>\n",
       "      <td>43.152</td>\n",
       "      <td>31.990</td>\n",
       "      <td>23.185</td>\n",
       "      <td>-0.137</td>\n",
       "    </tr>\n",
       "    <tr>\n",
       "      <th>50%</th>\n",
       "      <td>48.938</td>\n",
       "      <td>26.900</td>\n",
       "      <td>65.110</td>\n",
       "      <td>-7.430</td>\n",
       "      <td>56.036</td>\n",
       "      <td>1999.977</td>\n",
       "      <td>-51.094</td>\n",
       "      <td>15.774</td>\n",
       "      <td>60.266</td>\n",
       "      <td>45.626</td>\n",
       "      <td>24.797</td>\n",
       "      <td>10.860</td>\n",
       "    </tr>\n",
       "    <tr>\n",
       "      <th>75%</th>\n",
       "      <td>90.034</td>\n",
       "      <td>49.857</td>\n",
       "      <td>88.141</td>\n",
       "      <td>1.470</td>\n",
       "      <td>75.587</td>\n",
       "      <td>3760.639</td>\n",
       "      <td>-2.980</td>\n",
       "      <td>100.612</td>\n",
       "      <td>72.008</td>\n",
       "      <td>61.461</td>\n",
       "      <td>26.217</td>\n",
       "      <td>91.597</td>\n",
       "    </tr>\n",
       "    <tr>\n",
       "      <th>max</th>\n",
       "      <td>133.037</td>\n",
       "      <td>96.597</td>\n",
       "      <td>141.363</td>\n",
       "      <td>121.712</td>\n",
       "      <td>111.946</td>\n",
       "      <td>6000.015</td>\n",
       "      <td>0.052</td>\n",
       "      <td>249.887</td>\n",
       "      <td>113.607</td>\n",
       "      <td>101.148</td>\n",
       "      <td>30.714</td>\n",
       "      <td>261.006</td>\n",
       "    </tr>\n",
       "  </tbody>\n",
       "</table>\n",
       "</div>"
      ],
      "text/plain": [
       "               u_q      coolant  stator_winding          u_d  stator_tooth  \\\n",
       "count  1330816.000  1330816.000     1330816.000  1330816.000   1330816.000   \n",
       "mean        54.279       36.230          66.343      -25.194        56.879   \n",
       "std         44.173       21.786          28.672       62.949        22.952   \n",
       "min        -25.291       10.624          18.586     -131.530        18.134   \n",
       "25%         12.070       18.698          42.788      -78.691        38.416   \n",
       "50%         48.938       26.900          65.110       -7.430        56.036   \n",
       "75%         90.034       49.857          88.141        1.470        75.587   \n",
       "max        133.037       96.597         141.363      121.712       111.946   \n",
       "\n",
       "       motor_speed          i_d          i_q           pm  stator_yoke  \\\n",
       "count  1330816.000  1330816.000  1330816.000  1330816.000  1330816.000   \n",
       "mean      2202.081      -68.717       38.744       58.507       48.188   \n",
       "std       1859.663       64.933       87.195       19.001       19.991   \n",
       "min       -275.549     -278.004     -148.179       20.857       18.077   \n",
       "25%        317.111     -115.406        1.096       43.152       31.990   \n",
       "50%       1999.977      -51.094       15.774       60.266       45.626   \n",
       "75%       3760.639       -2.980      100.612       72.008       61.461   \n",
       "max       6000.015        0.052      249.887      113.607      101.148   \n",
       "\n",
       "           ambient       torque  \n",
       "count  1330816.000  1330816.000  \n",
       "mean        24.565       31.106  \n",
       "std          1.929       77.136  \n",
       "min         18.636     -246.467  \n",
       "25%         23.185       -0.137  \n",
       "50%         24.797       10.860  \n",
       "75%         26.217       91.597  \n",
       "max         30.714      261.006  "
      ]
     },
     "execution_count": 29,
     "metadata": {},
     "output_type": "execute_result"
    }
   ],
   "source": [
    "df_cap.describe().round(3)"
   ]
  },
  {
   "cell_type": "code",
   "execution_count": 30,
   "metadata": {
    "scrolled": true
   },
   "outputs": [
    {
     "data": {
      "text/html": [
       "<div>\n",
       "<style scoped>\n",
       "    .dataframe tbody tr th:only-of-type {\n",
       "        vertical-align: middle;\n",
       "    }\n",
       "\n",
       "    .dataframe tbody tr th {\n",
       "        vertical-align: top;\n",
       "    }\n",
       "\n",
       "    .dataframe thead th {\n",
       "        text-align: right;\n",
       "    }\n",
       "</style>\n",
       "<table border=\"1\" class=\"dataframe\">\n",
       "  <thead>\n",
       "    <tr style=\"text-align: right;\">\n",
       "      <th></th>\n",
       "      <th>u_q</th>\n",
       "      <th>coolant</th>\n",
       "      <th>stator_winding</th>\n",
       "      <th>u_d</th>\n",
       "      <th>stator_tooth</th>\n",
       "      <th>motor_speed</th>\n",
       "      <th>i_d</th>\n",
       "      <th>i_q</th>\n",
       "      <th>pm</th>\n",
       "      <th>stator_yoke</th>\n",
       "      <th>ambient</th>\n",
       "      <th>torque</th>\n",
       "    </tr>\n",
       "  </thead>\n",
       "  <tbody>\n",
       "    <tr>\n",
       "      <th>0</th>\n",
       "      <td>-0.450682</td>\n",
       "      <td>18.805172</td>\n",
       "      <td>19.086670</td>\n",
       "      <td>-0.350055</td>\n",
       "      <td>18.293219</td>\n",
       "      <td>0.002866</td>\n",
       "      <td>0.004419</td>\n",
       "      <td>0.000328</td>\n",
       "      <td>24.554214</td>\n",
       "      <td>18.316547</td>\n",
       "      <td>19.850691</td>\n",
       "      <td>0.187101</td>\n",
       "    </tr>\n",
       "    <tr>\n",
       "      <th>1</th>\n",
       "      <td>-0.325737</td>\n",
       "      <td>18.818571</td>\n",
       "      <td>19.092390</td>\n",
       "      <td>-0.305803</td>\n",
       "      <td>18.294807</td>\n",
       "      <td>0.000257</td>\n",
       "      <td>0.000606</td>\n",
       "      <td>-0.000785</td>\n",
       "      <td>24.538078</td>\n",
       "      <td>18.314955</td>\n",
       "      <td>19.850672</td>\n",
       "      <td>0.245417</td>\n",
       "    </tr>\n",
       "    <tr>\n",
       "      <th>2</th>\n",
       "      <td>-0.440864</td>\n",
       "      <td>18.828770</td>\n",
       "      <td>19.089380</td>\n",
       "      <td>-0.372503</td>\n",
       "      <td>18.294094</td>\n",
       "      <td>0.002355</td>\n",
       "      <td>0.001290</td>\n",
       "      <td>0.000386</td>\n",
       "      <td>24.544693</td>\n",
       "      <td>18.326307</td>\n",
       "      <td>19.850657</td>\n",
       "      <td>0.176615</td>\n",
       "    </tr>\n",
       "    <tr>\n",
       "      <th>3</th>\n",
       "      <td>-0.327026</td>\n",
       "      <td>18.835567</td>\n",
       "      <td>19.083031</td>\n",
       "      <td>-0.316199</td>\n",
       "      <td>18.292542</td>\n",
       "      <td>0.006105</td>\n",
       "      <td>0.000026</td>\n",
       "      <td>0.002046</td>\n",
       "      <td>24.554018</td>\n",
       "      <td>18.330833</td>\n",
       "      <td>19.850647</td>\n",
       "      <td>0.238303</td>\n",
       "    </tr>\n",
       "    <tr>\n",
       "      <th>4</th>\n",
       "      <td>-0.471150</td>\n",
       "      <td>18.857033</td>\n",
       "      <td>19.082525</td>\n",
       "      <td>-0.332272</td>\n",
       "      <td>18.291428</td>\n",
       "      <td>0.003133</td>\n",
       "      <td>-0.064317</td>\n",
       "      <td>0.037184</td>\n",
       "      <td>24.565397</td>\n",
       "      <td>18.326662</td>\n",
       "      <td>19.850639</td>\n",
       "      <td>0.208197</td>\n",
       "    </tr>\n",
       "  </tbody>\n",
       "</table>\n",
       "</div>"
      ],
      "text/plain": [
       "        u_q    coolant  stator_winding       u_d  stator_tooth  motor_speed  \\\n",
       "0 -0.450682  18.805172       19.086670 -0.350055     18.293219     0.002866   \n",
       "1 -0.325737  18.818571       19.092390 -0.305803     18.294807     0.000257   \n",
       "2 -0.440864  18.828770       19.089380 -0.372503     18.294094     0.002355   \n",
       "3 -0.327026  18.835567       19.083031 -0.316199     18.292542     0.006105   \n",
       "4 -0.471150  18.857033       19.082525 -0.332272     18.291428     0.003133   \n",
       "\n",
       "        i_d       i_q         pm  stator_yoke    ambient    torque  \n",
       "0  0.004419  0.000328  24.554214    18.316547  19.850691  0.187101  \n",
       "1  0.000606 -0.000785  24.538078    18.314955  19.850672  0.245417  \n",
       "2  0.001290  0.000386  24.544693    18.326307  19.850657  0.176615  \n",
       "3  0.000026  0.002046  24.554018    18.330833  19.850647  0.238303  \n",
       "4 -0.064317  0.037184  24.565397    18.326662  19.850639  0.208197  "
      ]
     },
     "execution_count": 30,
     "metadata": {},
     "output_type": "execute_result"
    }
   ],
   "source": [
    "df_cap.head()"
   ]
  },
  {
   "cell_type": "code",
   "execution_count": 31,
   "metadata": {},
   "outputs": [],
   "source": [
    "# Checking if the Y variabble is normal"
   ]
  },
  {
   "cell_type": "code",
   "execution_count": 32,
   "metadata": {},
   "outputs": [
    {
     "name": "stderr",
     "output_type": "stream",
     "text": [
      "C:\\Users\\PANDA\\anaconda3\\lib\\site-packages\\seaborn\\distributions.py:2551: FutureWarning: `distplot` is a deprecated function and will be removed in a future version. Please adapt your code to use either `displot` (a figure-level function with similar flexibility) or `histplot` (an axes-level function for histograms).\n",
      "  warnings.warn(msg, FutureWarning)\n"
     ]
    },
    {
     "data": {
      "text/plain": [
       "<AxesSubplot:xlabel='torque', ylabel='Density'>"
      ]
     },
     "execution_count": 32,
     "metadata": {},
     "output_type": "execute_result"
    },
    {
     "data": {
      "image/png": "[encoded data removed]",
      "text/plain": [
       "<Figure size 432x288 with 1 Axes>"
      ]
     },
     "metadata": {
      "needs_background": "light"
     },
     "output_type": "display_data"
    }
   ],
   "source": [
    "sns.distplot(target)"
   ]
  },
  {
   "cell_type": "code",
   "execution_count": 33,
   "metadata": {},
   "outputs": [
    {
     "name": "stdout",
     "output_type": "stream",
     "text": [
      "skewness: -0.12714097065658322\n",
      "kurtosis: 0.6695155849827308\n"
     ]
    }
   ],
   "source": [
    "print (\"skewness:\",target.skew())\n",
    "print ( \"kurtosis:\",target.kurtosis())"
   ]
  },
  {
   "cell_type": "markdown",
   "metadata": {},
   "source": [
    "### Feature Scaling"
   ]
  },
  {
   "cell_type": "code",
   "execution_count": 34,
   "metadata": {},
   "outputs": [],
   "source": [
    "# standardizing the data\n",
    "from sklearn.preprocessing import StandardScaler"
   ]
  },
  {
   "cell_type": "code",
   "execution_count": 35,
   "metadata": {},
   "outputs": [],
   "source": [
    "sc = StandardScaler()"
   ]
  },
  {
   "cell_type": "code",
   "execution_count": 36,
   "metadata": {},
   "outputs": [],
   "source": [
    "std_model = sc.fit(features)"
   ]
  },
  {
   "cell_type": "code",
   "execution_count": 37,
   "metadata": {},
   "outputs": [
    {
     "data": {
      "text/plain": [
       "array([[-2.4433861 , -0.79981228,  1.05833717, ..., -1.49424355,\n",
       "         0.39281962, -1.23897895],\n",
       "       [-2.44339598, -0.79919725,  1.05827845, ..., -1.49432321,\n",
       "         0.393521  , -1.23615044],\n",
       "       [-2.44340389, -0.79872912,  1.05828898, ..., -1.49375533,\n",
       "         0.39246382, -1.2387567 ],\n",
       "       ...,\n",
       "       [-0.30475007, -0.25285262,  1.0274795 , ..., -0.47706685,\n",
       "         0.41112574, -1.27700269],\n",
       "       [-0.29221486, -0.25285243,  1.02745286, ..., -0.47682858,\n",
       "         0.41046284, -1.28013097],\n",
       "       [-0.27868789, -0.2528523 ,  1.02745604, ..., -0.47659428,\n",
       "         0.4111637 , -1.27632004]])"
      ]
     },
     "execution_count": 37,
     "metadata": {},
     "output_type": "execute_result"
    }
   ],
   "source": [
    "std_model.transform(features)"
   ]
  },
  {
   "cell_type": "code",
   "execution_count": 38,
   "metadata": {},
   "outputs": [],
   "source": [
    "data_scaled = pd.DataFrame(std_model.transform(features), columns = features.columns)"
   ]
  },
  {
   "cell_type": "code",
   "execution_count": 39,
   "metadata": {},
   "outputs": [
    {
     "data": {
      "text/html": [
       "<div>\n",
       "<style scoped>\n",
       "    .dataframe tbody tr th:only-of-type {\n",
       "        vertical-align: middle;\n",
       "    }\n",
       "\n",
       "    .dataframe tbody tr th {\n",
       "        vertical-align: top;\n",
       "    }\n",
       "\n",
       "    .dataframe thead th {\n",
       "        text-align: right;\n",
       "    }\n",
       "</style>\n",
       "<table border=\"1\" class=\"dataframe\">\n",
       "  <thead>\n",
       "    <tr style=\"text-align: right;\">\n",
       "      <th></th>\n",
       "      <th>ambient</th>\n",
       "      <th>coolant</th>\n",
       "      <th>i_d</th>\n",
       "      <th>i_q</th>\n",
       "      <th>motor_speed</th>\n",
       "      <th>pm</th>\n",
       "      <th>stator_tooth</th>\n",
       "      <th>stator_winding</th>\n",
       "      <th>stator_yoke</th>\n",
       "      <th>u_d</th>\n",
       "      <th>u_q</th>\n",
       "    </tr>\n",
       "  </thead>\n",
       "  <tbody>\n",
       "    <tr>\n",
       "      <th>0</th>\n",
       "      <td>-2.443386</td>\n",
       "      <td>-0.799812</td>\n",
       "      <td>1.058337</td>\n",
       "      <td>-0.405855</td>\n",
       "      <td>-1.184128</td>\n",
       "      <td>-1.786837</td>\n",
       "      <td>-1.681117</td>\n",
       "      <td>-1.648158</td>\n",
       "      <td>-1.494244</td>\n",
       "      <td>0.392820</td>\n",
       "      <td>-1.238979</td>\n",
       "    </tr>\n",
       "    <tr>\n",
       "      <th>1</th>\n",
       "      <td>-2.443396</td>\n",
       "      <td>-0.799197</td>\n",
       "      <td>1.058278</td>\n",
       "      <td>-0.405867</td>\n",
       "      <td>-1.184129</td>\n",
       "      <td>-1.787686</td>\n",
       "      <td>-1.681047</td>\n",
       "      <td>-1.647959</td>\n",
       "      <td>-1.494323</td>\n",
       "      <td>0.393521</td>\n",
       "      <td>-1.236150</td>\n",
       "    </tr>\n",
       "    <tr>\n",
       "      <th>2</th>\n",
       "      <td>-2.443404</td>\n",
       "      <td>-0.798729</td>\n",
       "      <td>1.058289</td>\n",
       "      <td>-0.405854</td>\n",
       "      <td>-1.184128</td>\n",
       "      <td>-1.787338</td>\n",
       "      <td>-1.681078</td>\n",
       "      <td>-1.648064</td>\n",
       "      <td>-1.493755</td>\n",
       "      <td>0.392464</td>\n",
       "      <td>-1.238757</td>\n",
       "    </tr>\n",
       "    <tr>\n",
       "      <th>3</th>\n",
       "      <td>-2.443409</td>\n",
       "      <td>-0.798417</td>\n",
       "      <td>1.058270</td>\n",
       "      <td>-0.405836</td>\n",
       "      <td>-1.184126</td>\n",
       "      <td>-1.786847</td>\n",
       "      <td>-1.681146</td>\n",
       "      <td>-1.648285</td>\n",
       "      <td>-1.493529</td>\n",
       "      <td>0.393356</td>\n",
       "      <td>-1.236180</td>\n",
       "    </tr>\n",
       "    <tr>\n",
       "      <th>4</th>\n",
       "      <td>-2.443413</td>\n",
       "      <td>-0.797432</td>\n",
       "      <td>1.057279</td>\n",
       "      <td>-0.405455</td>\n",
       "      <td>-1.184127</td>\n",
       "      <td>-1.786248</td>\n",
       "      <td>-1.681195</td>\n",
       "      <td>-1.648303</td>\n",
       "      <td>-1.493738</td>\n",
       "      <td>0.393101</td>\n",
       "      <td>-1.239442</td>\n",
       "    </tr>\n",
       "    <tr>\n",
       "      <th>...</th>\n",
       "      <td>...</td>\n",
       "      <td>...</td>\n",
       "      <td>...</td>\n",
       "      <td>...</td>\n",
       "      <td>...</td>\n",
       "      <td>...</td>\n",
       "      <td>...</td>\n",
       "      <td>...</td>\n",
       "      <td>...</td>\n",
       "      <td>...</td>\n",
       "      <td>...</td>\n",
       "    </tr>\n",
       "    <tr>\n",
       "      <th>1330811</th>\n",
       "      <td>-0.298612</td>\n",
       "      <td>-0.252853</td>\n",
       "      <td>1.027466</td>\n",
       "      <td>-0.393952</td>\n",
       "      <td>-1.184129</td>\n",
       "      <td>0.191617</td>\n",
       "      <td>-0.651102</td>\n",
       "      <td>-0.734801</td>\n",
       "      <td>-0.476927</td>\n",
       "      <td>0.410918</td>\n",
       "      <td>-1.277497</td>\n",
       "    </tr>\n",
       "    <tr>\n",
       "      <th>1330812</th>\n",
       "      <td>-0.308136</td>\n",
       "      <td>-0.252853</td>\n",
       "      <td>1.027461</td>\n",
       "      <td>-0.393952</td>\n",
       "      <td>-1.184128</td>\n",
       "      <td>0.191347</td>\n",
       "      <td>-0.653952</td>\n",
       "      <td>-0.736038</td>\n",
       "      <td>-0.476796</td>\n",
       "      <td>0.410713</td>\n",
       "      <td>-1.279909</td>\n",
       "    </tr>\n",
       "    <tr>\n",
       "      <th>1330813</th>\n",
       "      <td>-0.304750</td>\n",
       "      <td>-0.252853</td>\n",
       "      <td>1.027480</td>\n",
       "      <td>-0.393939</td>\n",
       "      <td>-1.184128</td>\n",
       "      <td>0.191122</td>\n",
       "      <td>-0.656745</td>\n",
       "      <td>-0.736995</td>\n",
       "      <td>-0.477067</td>\n",
       "      <td>0.411126</td>\n",
       "      <td>-1.277003</td>\n",
       "    </tr>\n",
       "    <tr>\n",
       "      <th>1330814</th>\n",
       "      <td>-0.292215</td>\n",
       "      <td>-0.252852</td>\n",
       "      <td>1.027453</td>\n",
       "      <td>-0.393972</td>\n",
       "      <td>-1.184126</td>\n",
       "      <td>0.190861</td>\n",
       "      <td>-0.658601</td>\n",
       "      <td>-0.737626</td>\n",
       "      <td>-0.476829</td>\n",
       "      <td>0.410463</td>\n",
       "      <td>-1.280131</td>\n",
       "    </tr>\n",
       "    <tr>\n",
       "      <th>1330815</th>\n",
       "      <td>-0.278688</td>\n",
       "      <td>-0.252852</td>\n",
       "      <td>1.027456</td>\n",
       "      <td>-0.393964</td>\n",
       "      <td>-1.184127</td>\n",
       "      <td>0.190756</td>\n",
       "      <td>-0.659797</td>\n",
       "      <td>-0.739760</td>\n",
       "      <td>-0.476594</td>\n",
       "      <td>0.411164</td>\n",
       "      <td>-1.276320</td>\n",
       "    </tr>\n",
       "  </tbody>\n",
       "</table>\n",
       "<p>1330816 rows × 11 columns</p>\n",
       "</div>"
      ],
      "text/plain": [
       "          ambient   coolant       i_d       i_q  motor_speed        pm  \\\n",
       "0       -2.443386 -0.799812  1.058337 -0.405855    -1.184128 -1.786837   \n",
       "1       -2.443396 -0.799197  1.058278 -0.405867    -1.184129 -1.787686   \n",
       "2       -2.443404 -0.798729  1.058289 -0.405854    -1.184128 -1.787338   \n",
       "3       -2.443409 -0.798417  1.058270 -0.405836    -1.184126 -1.786847   \n",
       "4       -2.443413 -0.797432  1.057279 -0.405455    -1.184127 -1.786248   \n",
       "...           ...       ...       ...       ...          ...       ...   \n",
       "1330811 -0.298612 -0.252853  1.027466 -0.393952    -1.184129  0.191617   \n",
       "1330812 -0.308136 -0.252853  1.027461 -0.393952    -1.184128  0.191347   \n",
       "1330813 -0.304750 -0.252853  1.027480 -0.393939    -1.184128  0.191122   \n",
       "1330814 -0.292215 -0.252852  1.027453 -0.393972    -1.184126  0.190861   \n",
       "1330815 -0.278688 -0.252852  1.027456 -0.393964    -1.184127  0.190756   \n",
       "\n",
       "         stator_tooth  stator_winding  stator_yoke       u_d       u_q  \n",
       "0           -1.681117       -1.648158    -1.494244  0.392820 -1.238979  \n",
       "1           -1.681047       -1.647959    -1.494323  0.393521 -1.236150  \n",
       "2           -1.681078       -1.648064    -1.493755  0.392464 -1.238757  \n",
       "3           -1.681146       -1.648285    -1.493529  0.393356 -1.236180  \n",
       "4           -1.681195       -1.648303    -1.493738  0.393101 -1.239442  \n",
       "...               ...             ...          ...       ...       ...  \n",
       "1330811     -0.651102       -0.734801    -0.476927  0.410918 -1.277497  \n",
       "1330812     -0.653952       -0.736038    -0.476796  0.410713 -1.279909  \n",
       "1330813     -0.656745       -0.736995    -0.477067  0.411126 -1.277003  \n",
       "1330814     -0.658601       -0.737626    -0.476829  0.410463 -1.280131  \n",
       "1330815     -0.659797       -0.739760    -0.476594  0.411164 -1.276320  \n",
       "\n",
       "[1330816 rows x 11 columns]"
      ]
     },
     "execution_count": 39,
     "metadata": {},
     "output_type": "execute_result"
    }
   ],
   "source": [
    "data_scaled"
   ]
  },
  {
   "cell_type": "code",
   "execution_count": 40,
   "metadata": {},
   "outputs": [
    {
     "data": {
      "text/html": [
       "<div>\n",
       "<style scoped>\n",
       "    .dataframe tbody tr th:only-of-type {\n",
       "        vertical-align: middle;\n",
       "    }\n",
       "\n",
       "    .dataframe tbody tr th {\n",
       "        vertical-align: top;\n",
       "    }\n",
       "\n",
       "    .dataframe thead th {\n",
       "        text-align: right;\n",
       "    }\n",
       "</style>\n",
       "<table border=\"1\" class=\"dataframe\">\n",
       "  <thead>\n",
       "    <tr style=\"text-align: right;\">\n",
       "      <th></th>\n",
       "      <th>ambient</th>\n",
       "      <th>coolant</th>\n",
       "      <th>i_d</th>\n",
       "      <th>i_q</th>\n",
       "      <th>motor_speed</th>\n",
       "      <th>pm</th>\n",
       "      <th>stator_tooth</th>\n",
       "      <th>stator_winding</th>\n",
       "      <th>stator_yoke</th>\n",
       "      <th>u_d</th>\n",
       "      <th>u_q</th>\n",
       "    </tr>\n",
       "  </thead>\n",
       "  <tbody>\n",
       "    <tr>\n",
       "      <th>count</th>\n",
       "      <td>1330816.000</td>\n",
       "      <td>1330816.000</td>\n",
       "      <td>1330816.000</td>\n",
       "      <td>1330816.000</td>\n",
       "      <td>1330816.000</td>\n",
       "      <td>1330816.000</td>\n",
       "      <td>1330816.000</td>\n",
       "      <td>1330816.000</td>\n",
       "      <td>1330816.000</td>\n",
       "      <td>1330816.000</td>\n",
       "      <td>1330816.000</td>\n",
       "    </tr>\n",
       "    <tr>\n",
       "      <th>mean</th>\n",
       "      <td>-0.000</td>\n",
       "      <td>-0.000</td>\n",
       "      <td>0.000</td>\n",
       "      <td>-0.000</td>\n",
       "      <td>0.000</td>\n",
       "      <td>-0.000</td>\n",
       "      <td>0.000</td>\n",
       "      <td>-0.000</td>\n",
       "      <td>-0.000</td>\n",
       "      <td>-0.000</td>\n",
       "      <td>-0.000</td>\n",
       "    </tr>\n",
       "    <tr>\n",
       "      <th>std</th>\n",
       "      <td>1.000</td>\n",
       "      <td>1.000</td>\n",
       "      <td>1.000</td>\n",
       "      <td>1.000</td>\n",
       "      <td>1.000</td>\n",
       "      <td>1.000</td>\n",
       "      <td>1.000</td>\n",
       "      <td>1.000</td>\n",
       "      <td>1.000</td>\n",
       "      <td>1.000</td>\n",
       "      <td>1.000</td>\n",
       "    </tr>\n",
       "    <tr>\n",
       "      <th>min</th>\n",
       "      <td>-8.179</td>\n",
       "      <td>-1.175</td>\n",
       "      <td>-3.223</td>\n",
       "      <td>-3.589</td>\n",
       "      <td>-1.332</td>\n",
       "      <td>-1.981</td>\n",
       "      <td>-1.688</td>\n",
       "      <td>-1.666</td>\n",
       "      <td>-1.506</td>\n",
       "      <td>-1.686</td>\n",
       "      <td>-1.801</td>\n",
       "    </tr>\n",
       "    <tr>\n",
       "      <th>25%</th>\n",
       "      <td>-0.715</td>\n",
       "      <td>-0.805</td>\n",
       "      <td>-0.719</td>\n",
       "      <td>-0.394</td>\n",
       "      <td>-1.014</td>\n",
       "      <td>-0.808</td>\n",
       "      <td>-0.804</td>\n",
       "      <td>-0.822</td>\n",
       "      <td>-0.810</td>\n",
       "      <td>-0.849</td>\n",
       "      <td>-0.956</td>\n",
       "    </tr>\n",
       "    <tr>\n",
       "      <th>50%</th>\n",
       "      <td>0.120</td>\n",
       "      <td>-0.428</td>\n",
       "      <td>0.271</td>\n",
       "      <td>-0.235</td>\n",
       "      <td>-0.109</td>\n",
       "      <td>0.093</td>\n",
       "      <td>-0.037</td>\n",
       "      <td>-0.043</td>\n",
       "      <td>-0.128</td>\n",
       "      <td>0.281</td>\n",
       "      <td>-0.121</td>\n",
       "    </tr>\n",
       "    <tr>\n",
       "      <th>75%</th>\n",
       "      <td>0.856</td>\n",
       "      <td>0.626</td>\n",
       "      <td>1.012</td>\n",
       "      <td>0.686</td>\n",
       "      <td>0.838</td>\n",
       "      <td>0.711</td>\n",
       "      <td>0.815</td>\n",
       "      <td>0.760</td>\n",
       "      <td>0.664</td>\n",
       "      <td>0.422</td>\n",
       "      <td>0.809</td>\n",
       "    </tr>\n",
       "    <tr>\n",
       "      <th>max</th>\n",
       "      <td>3.187</td>\n",
       "      <td>3.000</td>\n",
       "      <td>1.059</td>\n",
       "      <td>2.867</td>\n",
       "      <td>2.042</td>\n",
       "      <td>2.900</td>\n",
       "      <td>2.399</td>\n",
       "      <td>2.616</td>\n",
       "      <td>2.649</td>\n",
       "      <td>2.482</td>\n",
       "      <td>1.783</td>\n",
       "    </tr>\n",
       "  </tbody>\n",
       "</table>\n",
       "</div>"
      ],
      "text/plain": [
       "           ambient      coolant          i_d          i_q  motor_speed  \\\n",
       "count  1330816.000  1330816.000  1330816.000  1330816.000  1330816.000   \n",
       "mean        -0.000       -0.000        0.000       -0.000        0.000   \n",
       "std          1.000        1.000        1.000        1.000        1.000   \n",
       "min         -8.179       -1.175       -3.223       -3.589       -1.332   \n",
       "25%         -0.715       -0.805       -0.719       -0.394       -1.014   \n",
       "50%          0.120       -0.428        0.271       -0.235       -0.109   \n",
       "75%          0.856        0.626        1.012        0.686        0.838   \n",
       "max          3.187        3.000        1.059        2.867        2.042   \n",
       "\n",
       "                pm  stator_tooth  stator_winding  stator_yoke          u_d  \\\n",
       "count  1330816.000   1330816.000     1330816.000  1330816.000  1330816.000   \n",
       "mean        -0.000         0.000          -0.000       -0.000       -0.000   \n",
       "std          1.000         1.000           1.000        1.000        1.000   \n",
       "min         -1.981        -1.688          -1.666       -1.506       -1.686   \n",
       "25%         -0.808        -0.804          -0.822       -0.810       -0.849   \n",
       "50%          0.093        -0.037          -0.043       -0.128        0.281   \n",
       "75%          0.711         0.815           0.760        0.664        0.422   \n",
       "max          2.900         2.399           2.616        2.649        2.482   \n",
       "\n",
       "               u_q  \n",
       "count  1330816.000  \n",
       "mean        -0.000  \n",
       "std          1.000  \n",
       "min         -1.801  \n",
       "25%         -0.956  \n",
       "50%         -0.121  \n",
       "75%          0.809  \n",
       "max          1.783  "
      ]
     },
     "execution_count": 40,
     "metadata": {},
     "output_type": "execute_result"
    }
   ],
   "source": [
    "# describing the data\n",
    "data_scaled.describe().round(3)"
   ]
  },
  {
   "cell_type": "markdown",
   "metadata": {},
   "source": [
    "### Feature Reduction"
   ]
  },
  {
   "cell_type": "markdown",
   "metadata": {},
   "source": [
    "#### Correlation"
   ]
  },
  {
   "cell_type": "code",
   "execution_count": 41,
   "metadata": {},
   "outputs": [
    {
     "data": {
      "text/html": [
       "<div>\n",
       "<style scoped>\n",
       "    .dataframe tbody tr th:only-of-type {\n",
       "        vertical-align: middle;\n",
       "    }\n",
       "\n",
       "    .dataframe tbody tr th {\n",
       "        vertical-align: top;\n",
       "    }\n",
       "\n",
       "    .dataframe thead th {\n",
       "        text-align: right;\n",
       "    }\n",
       "</style>\n",
       "<table border=\"1\" class=\"dataframe\">\n",
       "  <thead>\n",
       "    <tr style=\"text-align: right;\">\n",
       "      <th></th>\n",
       "      <th>ambient</th>\n",
       "      <th>coolant</th>\n",
       "      <th>i_d</th>\n",
       "      <th>i_q</th>\n",
       "      <th>motor_speed</th>\n",
       "      <th>pm</th>\n",
       "      <th>stator_tooth</th>\n",
       "      <th>stator_winding</th>\n",
       "      <th>stator_yoke</th>\n",
       "      <th>u_d</th>\n",
       "      <th>u_q</th>\n",
       "    </tr>\n",
       "  </thead>\n",
       "  <tbody>\n",
       "    <tr>\n",
       "      <th>ambient</th>\n",
       "      <td>1.000000</td>\n",
       "      <td>0.525963</td>\n",
       "      <td>0.016397</td>\n",
       "      <td>-0.314044</td>\n",
       "      <td>0.118232</td>\n",
       "      <td>0.513728</td>\n",
       "      <td>0.443470</td>\n",
       "      <td>0.333208</td>\n",
       "      <td>0.520382</td>\n",
       "      <td>0.203647</td>\n",
       "      <td>0.150264</td>\n",
       "    </tr>\n",
       "    <tr>\n",
       "      <th>coolant</th>\n",
       "      <td>0.525963</td>\n",
       "      <td>1.000000</td>\n",
       "      <td>0.074865</td>\n",
       "      <td>-0.256389</td>\n",
       "      <td>0.011872</td>\n",
       "      <td>0.467117</td>\n",
       "      <td>0.674974</td>\n",
       "      <td>0.504835</td>\n",
       "      <td>0.860750</td>\n",
       "      <td>0.195517</td>\n",
       "      <td>0.051721</td>\n",
       "    </tr>\n",
       "    <tr>\n",
       "      <th>i_d</th>\n",
       "      <td>0.016397</td>\n",
       "      <td>0.074865</td>\n",
       "      <td>1.000000</td>\n",
       "      <td>-0.231344</td>\n",
       "      <td>-0.700609</td>\n",
       "      <td>-0.427736</td>\n",
       "      <td>-0.487062</td>\n",
       "      <td>-0.624370</td>\n",
       "      <td>-0.278005</td>\n",
       "      <td>0.448331</td>\n",
       "      <td>-0.100357</td>\n",
       "    </tr>\n",
       "    <tr>\n",
       "      <th>i_q</th>\n",
       "      <td>-0.314044</td>\n",
       "      <td>-0.256389</td>\n",
       "      <td>-0.231344</td>\n",
       "      <td>1.000000</td>\n",
       "      <td>-0.068881</td>\n",
       "      <td>-0.142416</td>\n",
       "      <td>-0.042294</td>\n",
       "      <td>0.065617</td>\n",
       "      <td>-0.131466</td>\n",
       "      <td>-0.723069</td>\n",
       "      <td>-0.124589</td>\n",
       "    </tr>\n",
       "    <tr>\n",
       "      <th>motor_speed</th>\n",
       "      <td>0.118232</td>\n",
       "      <td>0.011872</td>\n",
       "      <td>-0.700609</td>\n",
       "      <td>-0.068881</td>\n",
       "      <td>1.000000</td>\n",
       "      <td>0.458947</td>\n",
       "      <td>0.398431</td>\n",
       "      <td>0.432034</td>\n",
       "      <td>0.255790</td>\n",
       "      <td>-0.288472</td>\n",
       "      <td>0.683556</td>\n",
       "    </tr>\n",
       "    <tr>\n",
       "      <th>pm</th>\n",
       "      <td>0.513728</td>\n",
       "      <td>0.467117</td>\n",
       "      <td>-0.427736</td>\n",
       "      <td>-0.142416</td>\n",
       "      <td>0.458947</td>\n",
       "      <td>1.000000</td>\n",
       "      <td>0.832084</td>\n",
       "      <td>0.795893</td>\n",
       "      <td>0.756684</td>\n",
       "      <td>-0.172031</td>\n",
       "      <td>0.122365</td>\n",
       "    </tr>\n",
       "    <tr>\n",
       "      <th>stator_tooth</th>\n",
       "      <td>0.443470</td>\n",
       "      <td>0.674974</td>\n",
       "      <td>-0.487062</td>\n",
       "      <td>-0.042294</td>\n",
       "      <td>0.398431</td>\n",
       "      <td>0.832084</td>\n",
       "      <td>1.000000</td>\n",
       "      <td>0.970135</td>\n",
       "      <td>0.953115</td>\n",
       "      <td>-0.142749</td>\n",
       "      <td>0.104373</td>\n",
       "    </tr>\n",
       "    <tr>\n",
       "      <th>stator_winding</th>\n",
       "      <td>0.333208</td>\n",
       "      <td>0.504835</td>\n",
       "      <td>-0.624370</td>\n",
       "      <td>0.065617</td>\n",
       "      <td>0.432034</td>\n",
       "      <td>0.795893</td>\n",
       "      <td>0.970135</td>\n",
       "      <td>1.000000</td>\n",
       "      <td>0.860268</td>\n",
       "      <td>-0.234950</td>\n",
       "      <td>0.050610</td>\n",
       "    </tr>\n",
       "    <tr>\n",
       "      <th>stator_yoke</th>\n",
       "      <td>0.520382</td>\n",
       "      <td>0.860750</td>\n",
       "      <td>-0.278005</td>\n",
       "      <td>-0.131466</td>\n",
       "      <td>0.255790</td>\n",
       "      <td>0.756684</td>\n",
       "      <td>0.953115</td>\n",
       "      <td>0.860268</td>\n",
       "      <td>1.000000</td>\n",
       "      <td>-0.008098</td>\n",
       "      <td>0.090992</td>\n",
       "    </tr>\n",
       "    <tr>\n",
       "      <th>u_d</th>\n",
       "      <td>0.203647</td>\n",
       "      <td>0.195517</td>\n",
       "      <td>0.448331</td>\n",
       "      <td>-0.723069</td>\n",
       "      <td>-0.288472</td>\n",
       "      <td>-0.172031</td>\n",
       "      <td>-0.142749</td>\n",
       "      <td>-0.234950</td>\n",
       "      <td>-0.008098</td>\n",
       "      <td>1.000000</td>\n",
       "      <td>0.004702</td>\n",
       "    </tr>\n",
       "    <tr>\n",
       "      <th>u_q</th>\n",
       "      <td>0.150264</td>\n",
       "      <td>0.051721</td>\n",
       "      <td>-0.100357</td>\n",
       "      <td>-0.124589</td>\n",
       "      <td>0.683556</td>\n",
       "      <td>0.122365</td>\n",
       "      <td>0.104373</td>\n",
       "      <td>0.050610</td>\n",
       "      <td>0.090992</td>\n",
       "      <td>0.004702</td>\n",
       "      <td>1.000000</td>\n",
       "    </tr>\n",
       "  </tbody>\n",
       "</table>\n",
       "</div>"
      ],
      "text/plain": [
       "                 ambient   coolant       i_d       i_q  motor_speed        pm  \\\n",
       "ambient         1.000000  0.525963  0.016397 -0.314044     0.118232  0.513728   \n",
       "coolant         0.525963  1.000000  0.074865 -0.256389     0.011872  0.467117   \n",
       "i_d             0.016397  0.074865  1.000000 -0.231344    -0.700609 -0.427736   \n",
       "i_q            -0.314044 -0.256389 -0.231344  1.000000    -0.068881 -0.142416   \n",
       "motor_speed     0.118232  0.011872 -0.700609 -0.068881     1.000000  0.458947   \n",
       "pm              0.513728  0.467117 -0.427736 -0.142416     0.458947  1.000000   \n",
       "stator_tooth    0.443470  0.674974 -0.487062 -0.042294     0.398431  0.832084   \n",
       "stator_winding  0.333208  0.504835 -0.624370  0.065617     0.432034  0.795893   \n",
       "stator_yoke     0.520382  0.860750 -0.278005 -0.131466     0.255790  0.756684   \n",
       "u_d             0.203647  0.195517  0.448331 -0.723069    -0.288472 -0.172031   \n",
       "u_q             0.150264  0.051721 -0.100357 -0.124589     0.683556  0.122365   \n",
       "\n",
       "                stator_tooth  stator_winding  stator_yoke       u_d       u_q  \n",
       "ambient             0.443470        0.333208     0.520382  0.203647  0.150264  \n",
       "coolant             0.674974        0.504835     0.860750  0.195517  0.051721  \n",
       "i_d                -0.487062       -0.624370    -0.278005  0.448331 -0.100357  \n",
       "i_q                -0.042294        0.065617    -0.131466 -0.723069 -0.124589  \n",
       "motor_speed         0.398431        0.432034     0.255790 -0.288472  0.683556  \n",
       "pm                  0.832084        0.795893     0.756684 -0.172031  0.122365  \n",
       "stator_tooth        1.000000        0.970135     0.953115 -0.142749  0.104373  \n",
       "stator_winding      0.970135        1.000000     0.860268 -0.234950  0.050610  \n",
       "stator_yoke         0.953115        0.860268     1.000000 -0.008098  0.090992  \n",
       "u_d                -0.142749       -0.234950    -0.008098  1.000000  0.004702  \n",
       "u_q                 0.104373        0.050610     0.090992  0.004702  1.000000  "
      ]
     },
     "execution_count": 41,
     "metadata": {},
     "output_type": "execute_result"
    }
   ],
   "source": [
    "data_scaled.corr()"
   ]
  },
  {
   "cell_type": "code",
   "execution_count": 42,
   "metadata": {},
   "outputs": [
    {
     "data": {
      "text/plain": [
       "<AxesSubplot:>"
      ]
     },
     "execution_count": 42,
     "metadata": {},
     "output_type": "execute_result"
    },
    {
     "data": {
      "image/png": "[encoded data removed]",
      "text/plain": [
       "<Figure size 1440x1440 with 2 Axes>"
      ]
     },
     "metadata": {
      "needs_background": "light"
     },
     "output_type": "display_data"
    }
   ],
   "source": [
    "import seaborn as sns\n",
    "corr=data_scaled.corr()\n",
    "top_features=corr.index\n",
    "plt.figure(figsize=(20,20))\n",
    "sns.heatmap(features[top_features].corr(),annot=True)\n"
   ]
  },
  {
   "cell_type": "code",
   "execution_count": 43,
   "metadata": {},
   "outputs": [],
   "source": [
    "#### Remove The correlated"
   ]
  },
  {
   "cell_type": "code",
   "execution_count": 44,
   "metadata": {},
   "outputs": [],
   "source": [
    "threshold=0.9"
   ]
  },
  {
   "cell_type": "code",
   "execution_count": 45,
   "metadata": {},
   "outputs": [],
   "source": [
    "# find and remove correlated features\n",
    "def correlation(dataset, threshold):\n",
    "    col_corr = set()  # Set of all the names of correlated columns\n",
    "    corr_matrix = dataset.corr()\n",
    "    for i in range(len(corr_matrix.columns)):\n",
    "        for j in range(i):\n",
    "            if abs(corr_matrix.iloc[i, j]) > threshold: # we are interested in absolute coeff value\n",
    "                colname = corr_matrix.columns[i]  # getting the name of column\n",
    "                col_corr.add(colname)\n",
    "    return col_corr"
   ]
  },
  {
   "cell_type": "code",
   "execution_count": 46,
   "metadata": {},
   "outputs": [
    {
     "data": {
      "text/plain": [
       "{'stator_winding', 'stator_yoke'}"
      ]
     },
     "execution_count": 46,
     "metadata": {},
     "output_type": "execute_result"
    }
   ],
   "source": [
    "correlation(data_scaled,threshold)"
   ]
  },
  {
   "cell_type": "code",
   "execution_count": 47,
   "metadata": {},
   "outputs": [
    {
     "data": {
      "text/plain": [
       "Index(['ambient', 'coolant', 'i_d', 'i_q', 'motor_speed', 'pm', 'stator_tooth',\n",
       "       'stator_winding', 'stator_yoke', 'u_d', 'u_q'],\n",
       "      dtype='object')"
      ]
     },
     "execution_count": 47,
     "metadata": {},
     "output_type": "execute_result"
    }
   ],
   "source": [
    "data_scaled.columns"
   ]
  },
  {
   "cell_type": "code",
   "execution_count": 48,
   "metadata": {},
   "outputs": [],
   "source": [
    "imp_vars = ['ambient', 'coolant', 'i_d', 'i_q', 'motor_speed', 'pm', 'stator_tooth', 'u_d', 'u_q']"
   ]
  },
  {
   "cell_type": "code",
   "execution_count": 49,
   "metadata": {},
   "outputs": [],
   "source": [
    "features_selected = data_scaled[imp_vars]"
   ]
  },
  {
   "cell_type": "code",
   "execution_count": 50,
   "metadata": {},
   "outputs": [
    {
     "data": {
      "text/html": [
       "<div>\n",
       "<style scoped>\n",
       "    .dataframe tbody tr th:only-of-type {\n",
       "        vertical-align: middle;\n",
       "    }\n",
       "\n",
       "    .dataframe tbody tr th {\n",
       "        vertical-align: top;\n",
       "    }\n",
       "\n",
       "    .dataframe thead th {\n",
       "        text-align: right;\n",
       "    }\n",
       "</style>\n",
       "<table border=\"1\" class=\"dataframe\">\n",
       "  <thead>\n",
       "    <tr style=\"text-align: right;\">\n",
       "      <th></th>\n",
       "      <th>ambient</th>\n",
       "      <th>coolant</th>\n",
       "      <th>i_d</th>\n",
       "      <th>i_q</th>\n",
       "      <th>motor_speed</th>\n",
       "      <th>pm</th>\n",
       "      <th>stator_tooth</th>\n",
       "      <th>u_d</th>\n",
       "      <th>u_q</th>\n",
       "    </tr>\n",
       "  </thead>\n",
       "  <tbody>\n",
       "    <tr>\n",
       "      <th>0</th>\n",
       "      <td>-2.443386</td>\n",
       "      <td>-0.799812</td>\n",
       "      <td>1.058337</td>\n",
       "      <td>-0.405855</td>\n",
       "      <td>-1.184128</td>\n",
       "      <td>-1.786837</td>\n",
       "      <td>-1.681117</td>\n",
       "      <td>0.392820</td>\n",
       "      <td>-1.238979</td>\n",
       "    </tr>\n",
       "    <tr>\n",
       "      <th>1</th>\n",
       "      <td>-2.443396</td>\n",
       "      <td>-0.799197</td>\n",
       "      <td>1.058278</td>\n",
       "      <td>-0.405867</td>\n",
       "      <td>-1.184129</td>\n",
       "      <td>-1.787686</td>\n",
       "      <td>-1.681047</td>\n",
       "      <td>0.393521</td>\n",
       "      <td>-1.236150</td>\n",
       "    </tr>\n",
       "    <tr>\n",
       "      <th>2</th>\n",
       "      <td>-2.443404</td>\n",
       "      <td>-0.798729</td>\n",
       "      <td>1.058289</td>\n",
       "      <td>-0.405854</td>\n",
       "      <td>-1.184128</td>\n",
       "      <td>-1.787338</td>\n",
       "      <td>-1.681078</td>\n",
       "      <td>0.392464</td>\n",
       "      <td>-1.238757</td>\n",
       "    </tr>\n",
       "    <tr>\n",
       "      <th>3</th>\n",
       "      <td>-2.443409</td>\n",
       "      <td>-0.798417</td>\n",
       "      <td>1.058270</td>\n",
       "      <td>-0.405836</td>\n",
       "      <td>-1.184126</td>\n",
       "      <td>-1.786847</td>\n",
       "      <td>-1.681146</td>\n",
       "      <td>0.393356</td>\n",
       "      <td>-1.236180</td>\n",
       "    </tr>\n",
       "    <tr>\n",
       "      <th>4</th>\n",
       "      <td>-2.443413</td>\n",
       "      <td>-0.797432</td>\n",
       "      <td>1.057279</td>\n",
       "      <td>-0.405455</td>\n",
       "      <td>-1.184127</td>\n",
       "      <td>-1.786248</td>\n",
       "      <td>-1.681195</td>\n",
       "      <td>0.393101</td>\n",
       "      <td>-1.239442</td>\n",
       "    </tr>\n",
       "    <tr>\n",
       "      <th>...</th>\n",
       "      <td>...</td>\n",
       "      <td>...</td>\n",
       "      <td>...</td>\n",
       "      <td>...</td>\n",
       "      <td>...</td>\n",
       "      <td>...</td>\n",
       "      <td>...</td>\n",
       "      <td>...</td>\n",
       "      <td>...</td>\n",
       "    </tr>\n",
       "    <tr>\n",
       "      <th>1330811</th>\n",
       "      <td>-0.298612</td>\n",
       "      <td>-0.252853</td>\n",
       "      <td>1.027466</td>\n",
       "      <td>-0.393952</td>\n",
       "      <td>-1.184129</td>\n",
       "      <td>0.191617</td>\n",
       "      <td>-0.651102</td>\n",
       "      <td>0.410918</td>\n",
       "      <td>-1.277497</td>\n",
       "    </tr>\n",
       "    <tr>\n",
       "      <th>1330812</th>\n",
       "      <td>-0.308136</td>\n",
       "      <td>-0.252853</td>\n",
       "      <td>1.027461</td>\n",
       "      <td>-0.393952</td>\n",
       "      <td>-1.184128</td>\n",
       "      <td>0.191347</td>\n",
       "      <td>-0.653952</td>\n",
       "      <td>0.410713</td>\n",
       "      <td>-1.279909</td>\n",
       "    </tr>\n",
       "    <tr>\n",
       "      <th>1330813</th>\n",
       "      <td>-0.304750</td>\n",
       "      <td>-0.252853</td>\n",
       "      <td>1.027480</td>\n",
       "      <td>-0.393939</td>\n",
       "      <td>-1.184128</td>\n",
       "      <td>0.191122</td>\n",
       "      <td>-0.656745</td>\n",
       "      <td>0.411126</td>\n",
       "      <td>-1.277003</td>\n",
       "    </tr>\n",
       "    <tr>\n",
       "      <th>1330814</th>\n",
       "      <td>-0.292215</td>\n",
       "      <td>-0.252852</td>\n",
       "      <td>1.027453</td>\n",
       "      <td>-0.393972</td>\n",
       "      <td>-1.184126</td>\n",
       "      <td>0.190861</td>\n",
       "      <td>-0.658601</td>\n",
       "      <td>0.410463</td>\n",
       "      <td>-1.280131</td>\n",
       "    </tr>\n",
       "    <tr>\n",
       "      <th>1330815</th>\n",
       "      <td>-0.278688</td>\n",
       "      <td>-0.252852</td>\n",
       "      <td>1.027456</td>\n",
       "      <td>-0.393964</td>\n",
       "      <td>-1.184127</td>\n",
       "      <td>0.190756</td>\n",
       "      <td>-0.659797</td>\n",
       "      <td>0.411164</td>\n",
       "      <td>-1.276320</td>\n",
       "    </tr>\n",
       "  </tbody>\n",
       "</table>\n",
       "<p>1330816 rows × 9 columns</p>\n",
       "</div>"
      ],
      "text/plain": [
       "          ambient   coolant       i_d       i_q  motor_speed        pm  \\\n",
       "0       -2.443386 -0.799812  1.058337 -0.405855    -1.184128 -1.786837   \n",
       "1       -2.443396 -0.799197  1.058278 -0.405867    -1.184129 -1.787686   \n",
       "2       -2.443404 -0.798729  1.058289 -0.405854    -1.184128 -1.787338   \n",
       "3       -2.443409 -0.798417  1.058270 -0.405836    -1.184126 -1.786847   \n",
       "4       -2.443413 -0.797432  1.057279 -0.405455    -1.184127 -1.786248   \n",
       "...           ...       ...       ...       ...          ...       ...   \n",
       "1330811 -0.298612 -0.252853  1.027466 -0.393952    -1.184129  0.191617   \n",
       "1330812 -0.308136 -0.252853  1.027461 -0.393952    -1.184128  0.191347   \n",
       "1330813 -0.304750 -0.252853  1.027480 -0.393939    -1.184128  0.191122   \n",
       "1330814 -0.292215 -0.252852  1.027453 -0.393972    -1.184126  0.190861   \n",
       "1330815 -0.278688 -0.252852  1.027456 -0.393964    -1.184127  0.190756   \n",
       "\n",
       "         stator_tooth       u_d       u_q  \n",
       "0           -1.681117  0.392820 -1.238979  \n",
       "1           -1.681047  0.393521 -1.236150  \n",
       "2           -1.681078  0.392464 -1.238757  \n",
       "3           -1.681146  0.393356 -1.236180  \n",
       "4           -1.681195  0.393101 -1.239442  \n",
       "...               ...       ...       ...  \n",
       "1330811     -0.651102  0.410918 -1.277497  \n",
       "1330812     -0.653952  0.410713 -1.279909  \n",
       "1330813     -0.656745  0.411126 -1.277003  \n",
       "1330814     -0.658601  0.410463 -1.280131  \n",
       "1330815     -0.659797  0.411164 -1.276320  \n",
       "\n",
       "[1330816 rows x 9 columns]"
      ]
     },
     "execution_count": 50,
     "metadata": {},
     "output_type": "execute_result"
    }
   ],
   "source": [
    "features_selected"
   ]
  },
  {
   "cell_type": "markdown",
   "metadata": {},
   "source": [
    "#### PCA"
   ]
  },
  {
   "cell_type": "code",
   "execution_count": 51,
   "metadata": {},
   "outputs": [],
   "source": [
    "# using PCA for reducing the variables\n",
    "from sklearn.decomposition import PCA  "
   ]
  },
  {
   "cell_type": "code",
   "execution_count": 52,
   "metadata": {},
   "outputs": [],
   "source": [
    "pca_model = PCA(n_components=9)"
   ]
  },
  {
   "cell_type": "code",
   "execution_count": 53,
   "metadata": {},
   "outputs": [],
   "source": [
    "pca_model = pca_model.fit(features_selected)"
   ]
  },
  {
   "cell_type": "code",
   "execution_count": 54,
   "metadata": {},
   "outputs": [
    {
     "data": {
      "text/plain": [
       "array([3.25353546, 2.35579215, 1.45172967, 0.76390546, 0.52111932,\n",
       "       0.32254021, 0.22311641, 0.07451364, 0.03375444])"
      ]
     },
     "execution_count": 54,
     "metadata": {},
     "output_type": "execute_result"
    }
   ],
   "source": [
    "pca_model.explained_variance_  # Eigen values"
   ]
  },
  {
   "cell_type": "code",
   "execution_count": 55,
   "metadata": {},
   "outputs": [
    {
     "data": {
      "text/plain": [
       "array([0.36150367, 0.26175449, 0.16130317, 0.08487832, 0.0579021 ,\n",
       "       0.03583777, 0.02479069, 0.00827929, 0.00375049])"
      ]
     },
     "execution_count": 55,
     "metadata": {},
     "output_type": "execute_result"
    }
   ],
   "source": [
    "pca_model.explained_variance_ratio_"
   ]
  },
  {
   "cell_type": "code",
   "execution_count": 56,
   "metadata": {},
   "outputs": [
    {
     "data": {
      "text/plain": [
       "array([0.36150367, 0.62325816, 0.78456133, 0.86943965, 0.92734175,\n",
       "       0.96317953, 0.98797022, 0.99624951, 1.        ])"
      ]
     },
     "execution_count": 56,
     "metadata": {},
     "output_type": "execute_result"
    }
   ],
   "source": [
    "np.cumsum(pca_model.explained_variance_ratio_)"
   ]
  },
  {
   "cell_type": "raw",
   "metadata": {},
   "source": [
    "Note : criteria to choose number of components\n",
    "    \n",
    "    1. Cumulative should be more than 75%\n",
    "    2. Individual component should explain more than 0.8 variance"
   ]
  },
  {
   "cell_type": "code",
   "execution_count": 57,
   "metadata": {},
   "outputs": [],
   "source": [
    "# based on the criteria we will choose number of components = 3"
   ]
  },
  {
   "cell_type": "code",
   "execution_count": 58,
   "metadata": {},
   "outputs": [],
   "source": [
    "pca_model = PCA(n_components=3)\n",
    "\n",
    "pca_model = pca_model.fit(features_selected)"
   ]
  },
  {
   "cell_type": "code",
   "execution_count": 59,
   "metadata": {},
   "outputs": [
    {
     "data": {
      "text/plain": [
       "array([3.25353546, 2.35579215, 1.45172967])"
      ]
     },
     "execution_count": 59,
     "metadata": {},
     "output_type": "execute_result"
    }
   ],
   "source": [
    "pca_model.explained_variance_"
   ]
  },
  {
   "cell_type": "code",
   "execution_count": 60,
   "metadata": {},
   "outputs": [
    {
     "data": {
      "text/plain": [
       "array([[-3.80273835,  0.04222328, -0.03572346],\n",
       "       [-3.80237136,  0.04184336, -0.03768765],\n",
       "       [-3.80252434,  0.04208786, -0.03556084],\n",
       "       ...,\n",
       "       [-1.48709704, -0.99304063,  0.91596542],\n",
       "       [-1.48476843, -0.99699653,  0.91856024],\n",
       "       [-1.4803951 , -1.00164705,  0.91664422]])"
      ]
     },
     "execution_count": 60,
     "metadata": {},
     "output_type": "execute_result"
    }
   ],
   "source": [
    "pca_model.transform(features_selected)"
   ]
  },
  {
   "cell_type": "code",
   "execution_count": 61,
   "metadata": {},
   "outputs": [],
   "source": [
    "PCs = pd.DataFrame(pca_model.transform(features_selected), columns = ['PC1','PC2','PC3'])"
   ]
  },
  {
   "cell_type": "code",
   "execution_count": 62,
   "metadata": {},
   "outputs": [
    {
     "data": {
      "text/html": [
       "<div>\n",
       "<style scoped>\n",
       "    .dataframe tbody tr th:only-of-type {\n",
       "        vertical-align: middle;\n",
       "    }\n",
       "\n",
       "    .dataframe tbody tr th {\n",
       "        vertical-align: top;\n",
       "    }\n",
       "\n",
       "    .dataframe thead th {\n",
       "        text-align: right;\n",
       "    }\n",
       "</style>\n",
       "<table border=\"1\" class=\"dataframe\">\n",
       "  <thead>\n",
       "    <tr style=\"text-align: right;\">\n",
       "      <th></th>\n",
       "      <th>PC1</th>\n",
       "      <th>PC2</th>\n",
       "      <th>PC3</th>\n",
       "    </tr>\n",
       "  </thead>\n",
       "  <tbody>\n",
       "    <tr>\n",
       "      <th>0</th>\n",
       "      <td>-3.802738</td>\n",
       "      <td>0.042223</td>\n",
       "      <td>-0.035723</td>\n",
       "    </tr>\n",
       "    <tr>\n",
       "      <th>1</th>\n",
       "      <td>-3.802371</td>\n",
       "      <td>0.041843</td>\n",
       "      <td>-0.037688</td>\n",
       "    </tr>\n",
       "    <tr>\n",
       "      <th>2</th>\n",
       "      <td>-3.802524</td>\n",
       "      <td>0.042088</td>\n",
       "      <td>-0.035561</td>\n",
       "    </tr>\n",
       "    <tr>\n",
       "      <th>3</th>\n",
       "      <td>-3.801756</td>\n",
       "      <td>0.041648</td>\n",
       "      <td>-0.037287</td>\n",
       "    </tr>\n",
       "    <tr>\n",
       "      <th>4</th>\n",
       "      <td>-3.801553</td>\n",
       "      <td>0.041804</td>\n",
       "      <td>-0.034655</td>\n",
       "    </tr>\n",
       "    <tr>\n",
       "      <th>...</th>\n",
       "      <td>...</td>\n",
       "      <td>...</td>\n",
       "      <td>...</td>\n",
       "    </tr>\n",
       "    <tr>\n",
       "      <th>1330811</th>\n",
       "      <td>-1.482210</td>\n",
       "      <td>-0.995303</td>\n",
       "      <td>0.918386</td>\n",
       "    </tr>\n",
       "    <tr>\n",
       "      <th>1330812</th>\n",
       "      <td>-1.487250</td>\n",
       "      <td>-0.991982</td>\n",
       "      <td>0.918451</td>\n",
       "    </tr>\n",
       "    <tr>\n",
       "      <th>1330813</th>\n",
       "      <td>-1.487097</td>\n",
       "      <td>-0.993041</td>\n",
       "      <td>0.915965</td>\n",
       "    </tr>\n",
       "    <tr>\n",
       "      <th>1330814</th>\n",
       "      <td>-1.484768</td>\n",
       "      <td>-0.996997</td>\n",
       "      <td>0.918560</td>\n",
       "    </tr>\n",
       "    <tr>\n",
       "      <th>1330815</th>\n",
       "      <td>-1.480395</td>\n",
       "      <td>-1.001647</td>\n",
       "      <td>0.916644</td>\n",
       "    </tr>\n",
       "  </tbody>\n",
       "</table>\n",
       "<p>1330816 rows × 3 columns</p>\n",
       "</div>"
      ],
      "text/plain": [
       "              PC1       PC2       PC3\n",
       "0       -3.802738  0.042223 -0.035723\n",
       "1       -3.802371  0.041843 -0.037688\n",
       "2       -3.802524  0.042088 -0.035561\n",
       "3       -3.801756  0.041648 -0.037287\n",
       "4       -3.801553  0.041804 -0.034655\n",
       "...           ...       ...       ...\n",
       "1330811 -1.482210 -0.995303  0.918386\n",
       "1330812 -1.487250 -0.991982  0.918451\n",
       "1330813 -1.487097 -0.993041  0.915965\n",
       "1330814 -1.484768 -0.996997  0.918560\n",
       "1330815 -1.480395 -1.001647  0.916644\n",
       "\n",
       "[1330816 rows x 3 columns]"
      ]
     },
     "execution_count": 62,
     "metadata": {},
     "output_type": "execute_result"
    }
   ],
   "source": [
    "#Dimesnion Reduction\n",
    "PCs"
   ]
  },
  {
   "cell_type": "code",
   "execution_count": 63,
   "metadata": {},
   "outputs": [
    {
     "name": "stderr",
     "output_type": "stream",
     "text": [
      "<ipython-input-63-831d04485b9e>:5: UserWarning: Pandas doesn't allow columns to be created via a new attribute name - see https://pandas.pydata.org/pandas-docs/stable/indexing.html#attribute-access\n",
      "  Loadings.column= ['PC1','PC2','PC3']\n"
     ]
    }
   ],
   "source": [
    "#Variable reduction\n",
    "\n",
    "Loadings =  pd.DataFrame((pca_model.components_.T * np.sqrt(pca_model.explained_variance_)).T,columns=features_selected.columns).T\n",
    "\n",
    "Loadings.column= ['PC1','PC2','PC3']"
   ]
  },
  {
   "cell_type": "code",
   "execution_count": 64,
   "metadata": {},
   "outputs": [
    {
     "data": {
      "text/html": [
       "<div>\n",
       "<style scoped>\n",
       "    .dataframe tbody tr th:only-of-type {\n",
       "        vertical-align: middle;\n",
       "    }\n",
       "\n",
       "    .dataframe tbody tr th {\n",
       "        vertical-align: top;\n",
       "    }\n",
       "\n",
       "    .dataframe thead th {\n",
       "        text-align: right;\n",
       "    }\n",
       "</style>\n",
       "<table border=\"1\" class=\"dataframe\">\n",
       "  <thead>\n",
       "    <tr style=\"text-align: right;\">\n",
       "      <th></th>\n",
       "      <th>0</th>\n",
       "      <th>1</th>\n",
       "      <th>2</th>\n",
       "    </tr>\n",
       "  </thead>\n",
       "  <tbody>\n",
       "    <tr>\n",
       "      <th>ambient</th>\n",
       "      <td>0.569955</td>\n",
       "      <td>-0.516890</td>\n",
       "      <td>0.092908</td>\n",
       "    </tr>\n",
       "    <tr>\n",
       "      <th>coolant</th>\n",
       "      <td>0.574310</td>\n",
       "      <td>-0.543968</td>\n",
       "      <td>0.326933</td>\n",
       "    </tr>\n",
       "    <tr>\n",
       "      <th>i_d</th>\n",
       "      <td>-0.591631</td>\n",
       "      <td>-0.608446</td>\n",
       "      <td>0.028843</td>\n",
       "    </tr>\n",
       "    <tr>\n",
       "      <th>i_q</th>\n",
       "      <td>-0.139929</td>\n",
       "      <td>0.747147</td>\n",
       "      <td>0.429094</td>\n",
       "    </tr>\n",
       "    <tr>\n",
       "      <th>motor_speed</th>\n",
       "      <td>0.697353</td>\n",
       "      <td>0.405629</td>\n",
       "      <td>-0.558468</td>\n",
       "    </tr>\n",
       "    <tr>\n",
       "      <th>pm</th>\n",
       "      <td>0.875976</td>\n",
       "      <td>-0.062484</td>\n",
       "      <td>0.209261</td>\n",
       "    </tr>\n",
       "    <tr>\n",
       "      <th>stator_tooth</th>\n",
       "      <td>0.890858</td>\n",
       "      <td>-0.069887</td>\n",
       "      <td>0.319415</td>\n",
       "    </tr>\n",
       "    <tr>\n",
       "      <th>u_d</th>\n",
       "      <td>-0.183237</td>\n",
       "      <td>-0.826463</td>\n",
       "      <td>-0.306876</td>\n",
       "    </tr>\n",
       "    <tr>\n",
       "      <th>u_q</th>\n",
       "      <td>0.385237</td>\n",
       "      <td>0.088963</td>\n",
       "      <td>-0.774199</td>\n",
       "    </tr>\n",
       "  </tbody>\n",
       "</table>\n",
       "</div>"
      ],
      "text/plain": [
       "                     0         1         2\n",
       "ambient       0.569955 -0.516890  0.092908\n",
       "coolant       0.574310 -0.543968  0.326933\n",
       "i_d          -0.591631 -0.608446  0.028843\n",
       "i_q          -0.139929  0.747147  0.429094\n",
       "motor_speed   0.697353  0.405629 -0.558468\n",
       "pm            0.875976 -0.062484  0.209261\n",
       "stator_tooth  0.890858 -0.069887  0.319415\n",
       "u_d          -0.183237 -0.826463 -0.306876\n",
       "u_q           0.385237  0.088963 -0.774199"
      ]
     },
     "execution_count": 64,
     "metadata": {},
     "output_type": "execute_result"
    }
   ],
   "source": [
    "Loadings"
   ]
  },
  {
   "cell_type": "code",
   "execution_count": 65,
   "metadata": {},
   "outputs": [],
   "source": [
    "Loadings.to_csv('loadings.csv')"
   ]
  },
  {
   "cell_type": "code",
   "execution_count": 66,
   "metadata": {},
   "outputs": [],
   "source": [
    "#PCA can be used for any type of business problem (regressin, classificaiton, segmentation)\n",
    "selected_vars = [\"stator_tooth\",\n",
    "                 \"pm\",\n",
    "                 \"motor_speed\",\n",
    "                 \"coolant\",\n",
    "                 \"ambient\",\n",
    "                 \"i_d\",\n",
    "                 \"i_q\",\n",
    "                 \"u_d\",\n",
    "                 \"u_q\"]"
   ]
  },
  {
   "cell_type": "code",
   "execution_count": 67,
   "metadata": {
    "scrolled": false
   },
   "outputs": [],
   "source": [
    "final_data = data_scaled[selected_vars]"
   ]
  },
  {
   "cell_type": "code",
   "execution_count": 68,
   "metadata": {},
   "outputs": [],
   "source": [
    "final_data1 = pd.concat([final_data, np.round(target,4)], axis=1)"
   ]
  },
  {
   "cell_type": "code",
   "execution_count": 69,
   "metadata": {},
   "outputs": [
    {
     "data": {
      "text/html": [
       "<div>\n",
       "<style scoped>\n",
       "    .dataframe tbody tr th:only-of-type {\n",
       "        vertical-align: middle;\n",
       "    }\n",
       "\n",
       "    .dataframe tbody tr th {\n",
       "        vertical-align: top;\n",
       "    }\n",
       "\n",
       "    .dataframe thead th {\n",
       "        text-align: right;\n",
       "    }\n",
       "</style>\n",
       "<table border=\"1\" class=\"dataframe\">\n",
       "  <thead>\n",
       "    <tr style=\"text-align: right;\">\n",
       "      <th></th>\n",
       "      <th>stator_tooth</th>\n",
       "      <th>pm</th>\n",
       "      <th>motor_speed</th>\n",
       "      <th>coolant</th>\n",
       "      <th>ambient</th>\n",
       "      <th>i_d</th>\n",
       "      <th>i_q</th>\n",
       "      <th>u_d</th>\n",
       "      <th>u_q</th>\n",
       "      <th>torque</th>\n",
       "    </tr>\n",
       "  </thead>\n",
       "  <tbody>\n",
       "    <tr>\n",
       "      <th>0</th>\n",
       "      <td>-1.681117</td>\n",
       "      <td>-1.786837</td>\n",
       "      <td>-1.184128</td>\n",
       "      <td>-0.799812</td>\n",
       "      <td>-2.443386</td>\n",
       "      <td>1.058337</td>\n",
       "      <td>-0.405855</td>\n",
       "      <td>0.392820</td>\n",
       "      <td>-1.238979</td>\n",
       "      <td>0.1871</td>\n",
       "    </tr>\n",
       "    <tr>\n",
       "      <th>1</th>\n",
       "      <td>-1.681047</td>\n",
       "      <td>-1.787686</td>\n",
       "      <td>-1.184129</td>\n",
       "      <td>-0.799197</td>\n",
       "      <td>-2.443396</td>\n",
       "      <td>1.058278</td>\n",
       "      <td>-0.405867</td>\n",
       "      <td>0.393521</td>\n",
       "      <td>-1.236150</td>\n",
       "      <td>0.2454</td>\n",
       "    </tr>\n",
       "    <tr>\n",
       "      <th>2</th>\n",
       "      <td>-1.681078</td>\n",
       "      <td>-1.787338</td>\n",
       "      <td>-1.184128</td>\n",
       "      <td>-0.798729</td>\n",
       "      <td>-2.443404</td>\n",
       "      <td>1.058289</td>\n",
       "      <td>-0.405854</td>\n",
       "      <td>0.392464</td>\n",
       "      <td>-1.238757</td>\n",
       "      <td>0.1766</td>\n",
       "    </tr>\n",
       "    <tr>\n",
       "      <th>3</th>\n",
       "      <td>-1.681146</td>\n",
       "      <td>-1.786847</td>\n",
       "      <td>-1.184126</td>\n",
       "      <td>-0.798417</td>\n",
       "      <td>-2.443409</td>\n",
       "      <td>1.058270</td>\n",
       "      <td>-0.405836</td>\n",
       "      <td>0.393356</td>\n",
       "      <td>-1.236180</td>\n",
       "      <td>0.2383</td>\n",
       "    </tr>\n",
       "    <tr>\n",
       "      <th>4</th>\n",
       "      <td>-1.681195</td>\n",
       "      <td>-1.786248</td>\n",
       "      <td>-1.184127</td>\n",
       "      <td>-0.797432</td>\n",
       "      <td>-2.443413</td>\n",
       "      <td>1.057279</td>\n",
       "      <td>-0.405455</td>\n",
       "      <td>0.393101</td>\n",
       "      <td>-1.239442</td>\n",
       "      <td>0.2082</td>\n",
       "    </tr>\n",
       "  </tbody>\n",
       "</table>\n",
       "</div>"
      ],
      "text/plain": [
       "   stator_tooth        pm  motor_speed   coolant   ambient       i_d  \\\n",
       "0     -1.681117 -1.786837    -1.184128 -0.799812 -2.443386  1.058337   \n",
       "1     -1.681047 -1.787686    -1.184129 -0.799197 -2.443396  1.058278   \n",
       "2     -1.681078 -1.787338    -1.184128 -0.798729 -2.443404  1.058289   \n",
       "3     -1.681146 -1.786847    -1.184126 -0.798417 -2.443409  1.058270   \n",
       "4     -1.681195 -1.786248    -1.184127 -0.797432 -2.443413  1.057279   \n",
       "\n",
       "        i_q       u_d       u_q  torque  \n",
       "0 -0.405855  0.392820 -1.238979  0.1871  \n",
       "1 -0.405867  0.393521 -1.236150  0.2454  \n",
       "2 -0.405854  0.392464 -1.238757  0.1766  \n",
       "3 -0.405836  0.393356 -1.236180  0.2383  \n",
       "4 -0.405455  0.393101 -1.239442  0.2082  "
      ]
     },
     "execution_count": 69,
     "metadata": {},
     "output_type": "execute_result"
    }
   ],
   "source": [
    "final_data1.head()"
   ]
  },
  {
   "cell_type": "markdown",
   "metadata": {},
   "source": [
    "#### Data Preparation Level 4 : split data into train and test\n"
   ]
  },
  {
   "cell_type": "code",
   "execution_count": 70,
   "metadata": {},
   "outputs": [],
   "source": [
    "from sklearn.model_selection import train_test_split"
   ]
  },
  {
   "cell_type": "code",
   "execution_count": 71,
   "metadata": {},
   "outputs": [],
   "source": [
    "train, test = train_test_split(final_data1, test_size=0.3, random_state=123)"
   ]
  },
  {
   "cell_type": "code",
   "execution_count": 72,
   "metadata": {},
   "outputs": [
    {
     "data": {
      "text/plain": [
       "(931571, 10)"
      ]
     },
     "execution_count": 72,
     "metadata": {},
     "output_type": "execute_result"
    }
   ],
   "source": [
    "train.shape"
   ]
  },
  {
   "cell_type": "code",
   "execution_count": 73,
   "metadata": {},
   "outputs": [
    {
     "data": {
      "text/plain": [
       "(399245, 10)"
      ]
     },
     "execution_count": 73,
     "metadata": {},
     "output_type": "execute_result"
    }
   ],
   "source": [
    "test.shape"
   ]
  },
  {
   "cell_type": "markdown",
   "metadata": {},
   "source": [
    "### Model Building"
   ]
  },
  {
   "cell_type": "code",
   "execution_count": 74,
   "metadata": {},
   "outputs": [],
   "source": [
    "y = 'torque'"
   ]
  },
  {
   "cell_type": "code",
   "execution_count": 75,
   "metadata": {},
   "outputs": [
    {
     "data": {
      "text/plain": [
       "'torque'"
      ]
     },
     "execution_count": 75,
     "metadata": {},
     "output_type": "execute_result"
    }
   ],
   "source": [
    "y"
   ]
  },
  {
   "cell_type": "code",
   "execution_count": 76,
   "metadata": {},
   "outputs": [],
   "source": [
    "s = str()"
   ]
  },
  {
   "cell_type": "code",
   "execution_count": 77,
   "metadata": {},
   "outputs": [],
   "source": [
    "for i in final_data1.columns.tolist():\n",
    "    s = s + '+' + i"
   ]
  },
  {
   "cell_type": "code",
   "execution_count": 78,
   "metadata": {},
   "outputs": [],
   "source": [
    "equation=s[1:]"
   ]
  },
  {
   "cell_type": "code",
   "execution_count": 79,
   "metadata": {},
   "outputs": [
    {
     "data": {
      "text/plain": [
       "'stator_tooth+pm+motor_speed+coolant+ambient+i_d+i_q+u_d+u_q+torque'"
      ]
     },
     "execution_count": 79,
     "metadata": {},
     "output_type": "execute_result"
    }
   ],
   "source": [
    "equation"
   ]
  },
  {
   "cell_type": "code",
   "execution_count": 80,
   "metadata": {},
   "outputs": [],
   "source": [
    "equation= y +\"~\" +equation"
   ]
  },
  {
   "cell_type": "code",
   "execution_count": 81,
   "metadata": {},
   "outputs": [
    {
     "data": {
      "text/plain": [
       "'torque~stator_tooth+pm+motor_speed+coolant+ambient+i_d+i_q+u_d+u_q+torque'"
      ]
     },
     "execution_count": 81,
     "metadata": {},
     "output_type": "execute_result"
    }
   ],
   "source": [
    "equation"
   ]
  },
  {
   "cell_type": "markdown",
   "metadata": {},
   "source": [
    "### Modeling"
   ]
  },
  {
   "cell_type": "code",
   "execution_count": 82,
   "metadata": {},
   "outputs": [],
   "source": [
    "import statsmodels.formula.api as smf"
   ]
  },
  {
   "cell_type": "code",
   "execution_count": 83,
   "metadata": {},
   "outputs": [],
   "source": [
    "model = smf.ols('torque~stator_tooth+pm+motor_speed+coolant+ambient+i_d+i_q+u_d+u_q', data=train).fit()"
   ]
  },
  {
   "cell_type": "code",
   "execution_count": 84,
   "metadata": {
    "scrolled": false
   },
   "outputs": [
    {
     "name": "stdout",
     "output_type": "stream",
     "text": [
      "                            OLS Regression Results                            \n",
      "==============================================================================\n",
      "Dep. Variable:                 torque   R-squared:                       0.997\n",
      "Model:                            OLS   Adj. R-squared:                  0.997\n",
      "Method:                 Least Squares   F-statistic:                 2.990e+07\n",
      "Date:                Sun, 21 Nov 2021   Prob (F-statistic):               0.00\n",
      "Time:                        22:00:25   Log-Likelihood:            -2.7296e+06\n",
      "No. Observations:              931571   AIC:                         5.459e+06\n",
      "Df Residuals:                  931561   BIC:                         5.459e+06\n",
      "Df Model:                           9                                         \n",
      "Covariance Type:            nonrobust                                         \n",
      "================================================================================\n",
      "                   coef    std err          t      P>|t|      [0.025      0.975]\n",
      "--------------------------------------------------------------------------------\n",
      "Intercept       31.1063      0.005   6624.342      0.000      31.097      31.115\n",
      "stator_tooth     0.8574      0.014     59.566      0.000       0.829       0.886\n",
      "pm              -0.4896      0.011    -43.579      0.000      -0.512      -0.468\n",
      "motor_speed     -2.3075      0.017   -132.791      0.000      -2.342      -2.273\n",
      "coolant         -0.3335      0.009    -36.225      0.000      -0.352      -0.315\n",
      "ambient         -0.3033      0.006    -47.604      0.000      -0.316      -0.291\n",
      "i_d             -3.6844      0.013   -279.076      0.000      -3.710      -3.658\n",
      "i_q             72.0836      0.009   8084.452      0.000      72.066      72.101\n",
      "u_d             -4.8747      0.009   -560.825      0.000      -4.892      -4.858\n",
      "u_q             -0.2629      0.011    -23.192      0.000      -0.285      -0.241\n",
      "==============================================================================\n",
      "Omnibus:                   292257.185   Durbin-Watson:                   1.998\n",
      "Prob(Omnibus):                  0.000   Jarque-Bera (JB):         25258022.827\n",
      "Skew:                          -0.571   Prob(JB):                         0.00\n",
      "Kurtosis:                      28.484   Cond. No.                         9.82\n",
      "==============================================================================\n",
      "\n",
      "Notes:\n",
      "[1] Standard Errors assume that the covariance matrix of the errors is correctly specified.\n"
     ]
    }
   ],
   "source": [
    "print(model.summary())"
   ]
  },
  {
   "cell_type": "code",
   "execution_count": 85,
   "metadata": {},
   "outputs": [],
   "source": [
    "# predicting values for train data\n",
    "\n",
    "pred_train  = model.predict(train)\n",
    "actual_train = train.torque"
   ]
  },
  {
   "cell_type": "code",
   "execution_count": 86,
   "metadata": {},
   "outputs": [],
   "source": [
    "# predicting values for train data\n",
    "\n",
    "pred_test  = model.predict(test)\n",
    "actual_test = test.torque"
   ]
  },
  {
   "cell_type": "code",
   "execution_count": 87,
   "metadata": {},
   "outputs": [],
   "source": [
    "from sklearn import metrics"
   ]
  },
  {
   "cell_type": "code",
   "execution_count": 90,
   "metadata": {},
   "outputs": [
    {
     "name": "stdout",
     "output_type": "stream",
     "text": [
      "\n",
      "MAE values for training and testing data :\n",
      "3.0612058497157553\n",
      "3.055326489892876\n",
      "\n",
      "r2 values for training and testing data :\n",
      "0.9965498038596556\n",
      "0.9965173241832219\n",
      "\n",
      "MSE values for training and testing data :\n",
      "20.540951866714103\n",
      "20.691922808593375\n",
      "\n",
      "RMSE values for training and testing data :\n",
      "4.532212689924658\n",
      "4.548837522773635\n"
     ]
    }
   ],
   "source": [
    "#Metrics for both training and testing data \n",
    "\n",
    "#Mean Absolute Error\n",
    "print(\"\\nMAE values for training and testing data :\")\n",
    "MAE_train = metrics.mean_absolute_error(actual_train,pred_train)\n",
    "print(MAE_train)\n",
    "MAE_test =metrics.mean_absolute_error(actual_test,pred_test)\n",
    "print(MAE_test)\n",
    "\n",
    "#r2 value\n",
    "print(\"\\nr2 values for training and testing data :\")\n",
    "MSE_train = metrics.r2_score(actual_train,pred_train)\n",
    "print(MSE_train)\n",
    "MSE_test =metrics.r2_score(actual_test,pred_test)\n",
    "print(MSE_test)\n",
    "\n",
    "#Mean Squared error\n",
    "print(\"\\nMSE values for training and testing data :\")\n",
    "MSE_train = metrics.mean_squared_error(actual_train,pred_train)\n",
    "print(MSE_train)\n",
    "MSE_test =metrics.mean_squared_error(actual_test,pred_test)\n",
    "print(MSE_test)\n",
    "\n",
    "#Root Mean Squared error\n",
    "print(\"\\nRMSE values for training and testing data :\")\n",
    "RMSE_train = np.sqrt(metrics.mean_squared_error(actual_train,pred_train))\n",
    "print(RMSE_train)\n",
    "RMSE_test =np.sqrt(metrics.mean_squared_error(actual_test,pred_test))\n",
    "print(RMSE_test)"
   ]
  },
  {
   "cell_type": "markdown",
   "metadata": {},
   "source": [
    "## Machine Learning "
   ]
  },
  {
   "cell_type": "code",
   "execution_count": 91,
   "metadata": {},
   "outputs": [],
   "source": [
    "x = final_data1[final_data1.columns.difference(['torque'])]\n",
    "y = final_data1.torque"
   ]
  },
  {
   "cell_type": "code",
   "execution_count": 94,
   "metadata": {},
   "outputs": [],
   "source": [
    "#Considering Significant Variables for Machine Learning algorithms\n",
    "train_x, test_x, train_y, test_y = train_test_split(x,y, test_size=0.3, random_state=123)"
   ]
  },
  {
   "cell_type": "code",
   "execution_count": 95,
   "metadata": {},
   "outputs": [
    {
     "data": {
      "text/plain": [
       "(931571, 9)"
      ]
     },
     "execution_count": 95,
     "metadata": {},
     "output_type": "execute_result"
    }
   ],
   "source": [
    "train_x.shape"
   ]
  },
  {
   "cell_type": "code",
   "execution_count": 96,
   "metadata": {},
   "outputs": [
    {
     "data": {
      "text/plain": [
       "(931571,)"
      ]
     },
     "execution_count": 96,
     "metadata": {},
     "output_type": "execute_result"
    }
   ],
   "source": [
    "train_y.shape"
   ]
  },
  {
   "cell_type": "code",
   "execution_count": 97,
   "metadata": {},
   "outputs": [
    {
     "data": {
      "text/plain": [
       "(399245, 9)"
      ]
     },
     "execution_count": 97,
     "metadata": {},
     "output_type": "execute_result"
    }
   ],
   "source": [
    "test_x.shape"
   ]
  },
  {
   "cell_type": "code",
   "execution_count": 98,
   "metadata": {},
   "outputs": [
    {
     "data": {
      "text/plain": [
       "(399245,)"
      ]
     },
     "execution_count": 98,
     "metadata": {},
     "output_type": "execute_result"
    }
   ],
   "source": [
    "test_y.shape"
   ]
  },
  {
   "cell_type": "code",
   "execution_count": 99,
   "metadata": {},
   "outputs": [],
   "source": [
    "# Importing Required Packages\n",
    "from sklearn.linear_model import Lasso, Ridge"
   ]
  },
  {
   "cell_type": "markdown",
   "metadata": {},
   "source": [
    "### Lasso Regression "
   ]
  },
  {
   "cell_type": "code",
   "execution_count": 100,
   "metadata": {},
   "outputs": [
    {
     "data": {
      "text/plain": [
       "Lasso(alpha=0.0001, normalize=True)"
      ]
     },
     "execution_count": 100,
     "metadata": {},
     "output_type": "execute_result"
    }
   ],
   "source": [
    "Lasso_Reg = Lasso(alpha=0.0001,normalize=True)\n",
    "Lasso_Reg.fit(train_x,train_y)"
   ]
  },
  {
   "cell_type": "code",
   "execution_count": 102,
   "metadata": {},
   "outputs": [],
   "source": [
    "# finding all metric results\n",
    "\n",
    "def model_metric_results(model,train_x, train_y, test_x, test_y):\n",
    "    print('MAPE')\n",
    "    print('train_MAE :', metrics.mean_absolute_error(actual_train,pred_train))\n",
    "    print('test_MAE :', metrics.mean_absolute_error(actual_test,pred_test))\n",
    "    print('------------------------------------------------------------------------------------------------------------')\n",
    "    print('r2')\n",
    "    print('train_r2 :', metrics.r2_score(actual_train,pred_train))\n",
    "    print('test_r2 :', metrics.r2_score(actual_test,pred_test))\n",
    "    print('------------------------------------------------------------------------------------------------------------')\n",
    "    print('MSE')\n",
    "    print('train_RMSE :', metrics.mean_squared_error(actual_train,pred_train))\n",
    "    print('test_RMSE :', metrics.mean_squared_error(actual_test,pred_test))\n",
    "    print('------------------------------------------------------------------------------------------------------------')\n",
    "    print('RMSE')\n",
    "    print('train_RMSE :', np.sqrt(metrics.mean_squared_error(actual_train,pred_train)))\n",
    "    print('test_RMSE :', np.sqrt(metrics.mean_squared_error(actual_test,pred_test)))"
   ]
  },
  {
   "cell_type": "code",
   "execution_count": 103,
   "metadata": {},
   "outputs": [
    {
     "name": "stdout",
     "output_type": "stream",
     "text": [
      "MAPE\n",
      "train_MAE : 3.0612058497157553\n",
      "test_MAE : 3.055326489892876\n",
      "------------------------------------------------------------------------------------------------------------\n",
      "r2\n",
      "train_r2 : 0.9965498038596556\n",
      "test_r2 : 0.9965173241832219\n",
      "------------------------------------------------------------------------------------------------------------\n",
      "MSE\n",
      "train_RMSE : 20.540951866714103\n",
      "test_RMSE : 20.691922808593375\n",
      "------------------------------------------------------------------------------------------------------------\n",
      "RMSE\n",
      "train_RMSE : 4.532212689924658\n",
      "test_RMSE : 4.548837522773635\n"
     ]
    }
   ],
   "source": [
    "model_metric_results(Lasso_Reg, train_x, train_y, test_x, test_y)"
   ]
  },
  {
   "cell_type": "markdown",
   "metadata": {},
   "source": [
    "### Ridge Regression"
   ]
  },
  {
   "cell_type": "code",
   "execution_count": 104,
   "metadata": {},
   "outputs": [
    {
     "data": {
      "text/plain": [
       "Ridge(alpha=0.0001, normalize=True)"
      ]
     },
     "execution_count": 104,
     "metadata": {},
     "output_type": "execute_result"
    }
   ],
   "source": [
    "Ridge_Reg = Ridge(alpha=0.0001,normalize=True)\n",
    "Ridge_Reg.fit(train_x,train_y)"
   ]
  },
  {
   "cell_type": "code",
   "execution_count": 105,
   "metadata": {},
   "outputs": [
    {
     "name": "stdout",
     "output_type": "stream",
     "text": [
      "MAPE\n",
      "train_MAE : 3.0612058497157553\n",
      "test_MAE : 3.055326489892876\n",
      "------------------------------------------------------------------------------------------------------------\n",
      "r2\n",
      "train_r2 : 0.9965498038596556\n",
      "test_r2 : 0.9965173241832219\n",
      "------------------------------------------------------------------------------------------------------------\n",
      "MSE\n",
      "train_RMSE : 20.540951866714103\n",
      "test_RMSE : 20.691922808593375\n",
      "------------------------------------------------------------------------------------------------------------\n",
      "RMSE\n",
      "train_RMSE : 4.532212689924658\n",
      "test_RMSE : 4.548837522773635\n"
     ]
    }
   ],
   "source": [
    "model_metric_results(Ridge_Reg, train_x, train_y, test_x, test_y)"
   ]
  },
  {
   "cell_type": "markdown",
   "metadata": {},
   "source": [
    "### RandomForest Regressor"
   ]
  },
  {
   "cell_type": "code",
   "execution_count": 108,
   "metadata": {},
   "outputs": [],
   "source": [
    "from sklearn.ensemble import RandomForestRegressor\n",
    "from sklearn.model_selection import GridSearchCV"
   ]
  },
  {
   "cell_type": "code",
   "execution_count": 109,
   "metadata": {},
   "outputs": [],
   "source": [
    "# tuning parameters\n",
    "\n",
    "grid = {'n_estimators': [50, 60, 70, 80, 90, 100], 'max_features': [2,3,4], 'max_depth': [2,3,4,5,6]}"
   ]
  },
  {
   "cell_type": "code",
   "execution_count": 110,
   "metadata": {},
   "outputs": [],
   "source": [
    "rf_model = GridSearchCV(RandomForestRegressor(), grid, cv=5, scoring='r2', verbose=True, n_jobs=-1)"
   ]
  },
  {
   "cell_type": "code",
   "execution_count": 111,
   "metadata": {
    "scrolled": true
   },
   "outputs": [
    {
     "name": "stdout",
     "output_type": "stream",
     "text": [
      "Fitting 5 folds for each of 90 candidates, totalling 450 fits\n"
     ]
    },
    {
     "ename": "KeyboardInterrupt",
     "evalue": "",
     "output_type": "error",
     "traceback": [
      "\u001b[1;31m---------------------------------------------------------------------------\u001b[0m",
      "\u001b[1;31mKeyboardInterrupt\u001b[0m                         Traceback (most recent call last)",
      "\u001b[1;32m<ipython-input-111-cc7ce1c7a9f7>\u001b[0m in \u001b[0;36m<module>\u001b[1;34m\u001b[0m\n\u001b[1;32m----> 1\u001b[1;33m \u001b[0mrf_model\u001b[0m \u001b[1;33m=\u001b[0m \u001b[0mrf_model\u001b[0m\u001b[1;33m.\u001b[0m\u001b[0mfit\u001b[0m\u001b[1;33m(\u001b[0m\u001b[0mtrain_x\u001b[0m\u001b[1;33m,\u001b[0m \u001b[0mtrain_y\u001b[0m\u001b[1;33m)\u001b[0m\u001b[1;33m\u001b[0m\u001b[1;33m\u001b[0m\u001b[0m\n\u001b[0m",
      "\u001b[1;32m~\\anaconda3\\lib\\site-packages\\sklearn\\utils\\validation.py\u001b[0m in \u001b[0;36minner_f\u001b[1;34m(*args, **kwargs)\u001b[0m\n\u001b[0;32m     61\u001b[0m             \u001b[0mextra_args\u001b[0m \u001b[1;33m=\u001b[0m \u001b[0mlen\u001b[0m\u001b[1;33m(\u001b[0m\u001b[0margs\u001b[0m\u001b[1;33m)\u001b[0m \u001b[1;33m-\u001b[0m \u001b[0mlen\u001b[0m\u001b[1;33m(\u001b[0m\u001b[0mall_args\u001b[0m\u001b[1;33m)\u001b[0m\u001b[1;33m\u001b[0m\u001b[1;33m\u001b[0m\u001b[0m\n\u001b[0;32m     62\u001b[0m             \u001b[1;32mif\u001b[0m \u001b[0mextra_args\u001b[0m \u001b[1;33m<=\u001b[0m \u001b[1;36m0\u001b[0m\u001b[1;33m:\u001b[0m\u001b[1;33m\u001b[0m\u001b[1;33m\u001b[0m\u001b[0m\n\u001b[1;32m---> 63\u001b[1;33m                 \u001b[1;32mreturn\u001b[0m \u001b[0mf\u001b[0m\u001b[1;33m(\u001b[0m\u001b[1;33m*\u001b[0m\u001b[0margs\u001b[0m\u001b[1;33m,\u001b[0m \u001b[1;33m**\u001b[0m\u001b[0mkwargs\u001b[0m\u001b[1;33m)\u001b[0m\u001b[1;33m\u001b[0m\u001b[1;33m\u001b[0m\u001b[0m\n\u001b[0m\u001b[0;32m     64\u001b[0m \u001b[1;33m\u001b[0m\u001b[0m\n\u001b[0;32m     65\u001b[0m             \u001b[1;31m# extra_args > 0\u001b[0m\u001b[1;33m\u001b[0m\u001b[1;33m\u001b[0m\u001b[1;33m\u001b[0m\u001b[0m\n",
      "\u001b[1;32m~\\anaconda3\\lib\\site-packages\\sklearn\\model_selection\\_search.py\u001b[0m in \u001b[0;36mfit\u001b[1;34m(self, X, y, groups, **fit_params)\u001b[0m\n\u001b[0;32m    839\u001b[0m                 \u001b[1;32mreturn\u001b[0m \u001b[0mresults\u001b[0m\u001b[1;33m\u001b[0m\u001b[1;33m\u001b[0m\u001b[0m\n\u001b[0;32m    840\u001b[0m \u001b[1;33m\u001b[0m\u001b[0m\n\u001b[1;32m--> 841\u001b[1;33m             \u001b[0mself\u001b[0m\u001b[1;33m.\u001b[0m\u001b[0m_run_search\u001b[0m\u001b[1;33m(\u001b[0m\u001b[0mevaluate_candidates\u001b[0m\u001b[1;33m)\u001b[0m\u001b[1;33m\u001b[0m\u001b[1;33m\u001b[0m\u001b[0m\n\u001b[0m\u001b[0;32m    842\u001b[0m \u001b[1;33m\u001b[0m\u001b[0m\n\u001b[0;32m    843\u001b[0m             \u001b[1;31m# multimetric is determined here because in the case of a callable\u001b[0m\u001b[1;33m\u001b[0m\u001b[1;33m\u001b[0m\u001b[1;33m\u001b[0m\u001b[0m\n",
      "\u001b[1;32m~\\anaconda3\\lib\\site-packages\\sklearn\\model_selection\\_search.py\u001b[0m in \u001b[0;36m_run_search\u001b[1;34m(self, evaluate_candidates)\u001b[0m\n\u001b[0;32m   1294\u001b[0m     \u001b[1;32mdef\u001b[0m \u001b[0m_run_search\u001b[0m\u001b[1;33m(\u001b[0m\u001b[0mself\u001b[0m\u001b[1;33m,\u001b[0m \u001b[0mevaluate_candidates\u001b[0m\u001b[1;33m)\u001b[0m\u001b[1;33m:\u001b[0m\u001b[1;33m\u001b[0m\u001b[1;33m\u001b[0m\u001b[0m\n\u001b[0;32m   1295\u001b[0m         \u001b[1;34m\"\"\"Search all candidates in param_grid\"\"\"\u001b[0m\u001b[1;33m\u001b[0m\u001b[1;33m\u001b[0m\u001b[0m\n\u001b[1;32m-> 1296\u001b[1;33m         \u001b[0mevaluate_candidates\u001b[0m\u001b[1;33m(\u001b[0m\u001b[0mParameterGrid\u001b[0m\u001b[1;33m(\u001b[0m\u001b[0mself\u001b[0m\u001b[1;33m.\u001b[0m\u001b[0mparam_grid\u001b[0m\u001b[1;33m)\u001b[0m\u001b[1;33m)\u001b[0m\u001b[1;33m\u001b[0m\u001b[1;33m\u001b[0m\u001b[0m\n\u001b[0m\u001b[0;32m   1297\u001b[0m \u001b[1;33m\u001b[0m\u001b[0m\n\u001b[0;32m   1298\u001b[0m \u001b[1;33m\u001b[0m\u001b[0m\n",
      "\u001b[1;32m~\\anaconda3\\lib\\site-packages\\sklearn\\model_selection\\_search.py\u001b[0m in \u001b[0;36mevaluate_candidates\u001b[1;34m(candidate_params, cv, more_results)\u001b[0m\n\u001b[0;32m    793\u001b[0m                               n_splits, n_candidates, n_candidates * n_splits))\n\u001b[0;32m    794\u001b[0m \u001b[1;33m\u001b[0m\u001b[0m\n\u001b[1;32m--> 795\u001b[1;33m                 out = parallel(delayed(_fit_and_score)(clone(base_estimator),\n\u001b[0m\u001b[0;32m    796\u001b[0m                                                        \u001b[0mX\u001b[0m\u001b[1;33m,\u001b[0m \u001b[0my\u001b[0m\u001b[1;33m,\u001b[0m\u001b[1;33m\u001b[0m\u001b[1;33m\u001b[0m\u001b[0m\n\u001b[0;32m    797\u001b[0m                                                        \u001b[0mtrain\u001b[0m\u001b[1;33m=\u001b[0m\u001b[0mtrain\u001b[0m\u001b[1;33m,\u001b[0m \u001b[0mtest\u001b[0m\u001b[1;33m=\u001b[0m\u001b[0mtest\u001b[0m\u001b[1;33m,\u001b[0m\u001b[1;33m\u001b[0m\u001b[1;33m\u001b[0m\u001b[0m\n",
      "\u001b[1;32m~\\anaconda3\\lib\\site-packages\\joblib\\parallel.py\u001b[0m in \u001b[0;36m__call__\u001b[1;34m(self, iterable)\u001b[0m\n\u001b[0;32m   1059\u001b[0m \u001b[1;33m\u001b[0m\u001b[0m\n\u001b[0;32m   1060\u001b[0m             \u001b[1;32mwith\u001b[0m \u001b[0mself\u001b[0m\u001b[1;33m.\u001b[0m\u001b[0m_backend\u001b[0m\u001b[1;33m.\u001b[0m\u001b[0mretrieval_context\u001b[0m\u001b[1;33m(\u001b[0m\u001b[1;33m)\u001b[0m\u001b[1;33m:\u001b[0m\u001b[1;33m\u001b[0m\u001b[1;33m\u001b[0m\u001b[0m\n\u001b[1;32m-> 1061\u001b[1;33m                 \u001b[0mself\u001b[0m\u001b[1;33m.\u001b[0m\u001b[0mretrieve\u001b[0m\u001b[1;33m(\u001b[0m\u001b[1;33m)\u001b[0m\u001b[1;33m\u001b[0m\u001b[1;33m\u001b[0m\u001b[0m\n\u001b[0m\u001b[0;32m   1062\u001b[0m             \u001b[1;31m# Make sure that we get a last message telling us we are done\u001b[0m\u001b[1;33m\u001b[0m\u001b[1;33m\u001b[0m\u001b[1;33m\u001b[0m\u001b[0m\n\u001b[0;32m   1063\u001b[0m             \u001b[0melapsed_time\u001b[0m \u001b[1;33m=\u001b[0m \u001b[0mtime\u001b[0m\u001b[1;33m.\u001b[0m\u001b[0mtime\u001b[0m\u001b[1;33m(\u001b[0m\u001b[1;33m)\u001b[0m \u001b[1;33m-\u001b[0m \u001b[0mself\u001b[0m\u001b[1;33m.\u001b[0m\u001b[0m_start_time\u001b[0m\u001b[1;33m\u001b[0m\u001b[1;33m\u001b[0m\u001b[0m\n",
      "\u001b[1;32m~\\anaconda3\\lib\\site-packages\\joblib\\parallel.py\u001b[0m in \u001b[0;36mretrieve\u001b[1;34m(self)\u001b[0m\n\u001b[0;32m    938\u001b[0m             \u001b[1;32mtry\u001b[0m\u001b[1;33m:\u001b[0m\u001b[1;33m\u001b[0m\u001b[1;33m\u001b[0m\u001b[0m\n\u001b[0;32m    939\u001b[0m                 \u001b[1;32mif\u001b[0m \u001b[0mgetattr\u001b[0m\u001b[1;33m(\u001b[0m\u001b[0mself\u001b[0m\u001b[1;33m.\u001b[0m\u001b[0m_backend\u001b[0m\u001b[1;33m,\u001b[0m \u001b[1;34m'supports_timeout'\u001b[0m\u001b[1;33m,\u001b[0m \u001b[1;32mFalse\u001b[0m\u001b[1;33m)\u001b[0m\u001b[1;33m:\u001b[0m\u001b[1;33m\u001b[0m\u001b[1;33m\u001b[0m\u001b[0m\n\u001b[1;32m--> 940\u001b[1;33m                     \u001b[0mself\u001b[0m\u001b[1;33m.\u001b[0m\u001b[0m_output\u001b[0m\u001b[1;33m.\u001b[0m\u001b[0mextend\u001b[0m\u001b[1;33m(\u001b[0m\u001b[0mjob\u001b[0m\u001b[1;33m.\u001b[0m\u001b[0mget\u001b[0m\u001b[1;33m(\u001b[0m\u001b[0mtimeout\u001b[0m\u001b[1;33m=\u001b[0m\u001b[0mself\u001b[0m\u001b[1;33m.\u001b[0m\u001b[0mtimeout\u001b[0m\u001b[1;33m)\u001b[0m\u001b[1;33m)\u001b[0m\u001b[1;33m\u001b[0m\u001b[1;33m\u001b[0m\u001b[0m\n\u001b[0m\u001b[0;32m    941\u001b[0m                 \u001b[1;32melse\u001b[0m\u001b[1;33m:\u001b[0m\u001b[1;33m\u001b[0m\u001b[1;33m\u001b[0m\u001b[0m\n\u001b[0;32m    942\u001b[0m                     \u001b[0mself\u001b[0m\u001b[1;33m.\u001b[0m\u001b[0m_output\u001b[0m\u001b[1;33m.\u001b[0m\u001b[0mextend\u001b[0m\u001b[1;33m(\u001b[0m\u001b[0mjob\u001b[0m\u001b[1;33m.\u001b[0m\u001b[0mget\u001b[0m\u001b[1;33m(\u001b[0m\u001b[1;33m)\u001b[0m\u001b[1;33m)\u001b[0m\u001b[1;33m\u001b[0m\u001b[1;33m\u001b[0m\u001b[0m\n",
      "\u001b[1;32m~\\anaconda3\\lib\\site-packages\\joblib\\_parallel_backends.py\u001b[0m in \u001b[0;36mwrap_future_result\u001b[1;34m(future, timeout)\u001b[0m\n\u001b[0;32m    540\u001b[0m         AsyncResults.get from multiprocessing.\"\"\"\n\u001b[0;32m    541\u001b[0m         \u001b[1;32mtry\u001b[0m\u001b[1;33m:\u001b[0m\u001b[1;33m\u001b[0m\u001b[1;33m\u001b[0m\u001b[0m\n\u001b[1;32m--> 542\u001b[1;33m             \u001b[1;32mreturn\u001b[0m \u001b[0mfuture\u001b[0m\u001b[1;33m.\u001b[0m\u001b[0mresult\u001b[0m\u001b[1;33m(\u001b[0m\u001b[0mtimeout\u001b[0m\u001b[1;33m=\u001b[0m\u001b[0mtimeout\u001b[0m\u001b[1;33m)\u001b[0m\u001b[1;33m\u001b[0m\u001b[1;33m\u001b[0m\u001b[0m\n\u001b[0m\u001b[0;32m    543\u001b[0m         \u001b[1;32mexcept\u001b[0m \u001b[0mCfTimeoutError\u001b[0m \u001b[1;32mas\u001b[0m \u001b[0me\u001b[0m\u001b[1;33m:\u001b[0m\u001b[1;33m\u001b[0m\u001b[1;33m\u001b[0m\u001b[0m\n\u001b[0;32m    544\u001b[0m             \u001b[1;32mraise\u001b[0m \u001b[0mTimeoutError\u001b[0m \u001b[1;32mfrom\u001b[0m \u001b[0me\u001b[0m\u001b[1;33m\u001b[0m\u001b[1;33m\u001b[0m\u001b[0m\n",
      "\u001b[1;32m~\\anaconda3\\lib\\concurrent\\futures\\_base.py\u001b[0m in \u001b[0;36mresult\u001b[1;34m(self, timeout)\u001b[0m\n\u001b[0;32m    432\u001b[0m                 \u001b[1;32mreturn\u001b[0m \u001b[0mself\u001b[0m\u001b[1;33m.\u001b[0m\u001b[0m__get_result\u001b[0m\u001b[1;33m(\u001b[0m\u001b[1;33m)\u001b[0m\u001b[1;33m\u001b[0m\u001b[1;33m\u001b[0m\u001b[0m\n\u001b[0;32m    433\u001b[0m \u001b[1;33m\u001b[0m\u001b[0m\n\u001b[1;32m--> 434\u001b[1;33m             \u001b[0mself\u001b[0m\u001b[1;33m.\u001b[0m\u001b[0m_condition\u001b[0m\u001b[1;33m.\u001b[0m\u001b[0mwait\u001b[0m\u001b[1;33m(\u001b[0m\u001b[0mtimeout\u001b[0m\u001b[1;33m)\u001b[0m\u001b[1;33m\u001b[0m\u001b[1;33m\u001b[0m\u001b[0m\n\u001b[0m\u001b[0;32m    435\u001b[0m \u001b[1;33m\u001b[0m\u001b[0m\n\u001b[0;32m    436\u001b[0m             \u001b[1;32mif\u001b[0m \u001b[0mself\u001b[0m\u001b[1;33m.\u001b[0m\u001b[0m_state\u001b[0m \u001b[1;32min\u001b[0m \u001b[1;33m[\u001b[0m\u001b[0mCANCELLED\u001b[0m\u001b[1;33m,\u001b[0m \u001b[0mCANCELLED_AND_NOTIFIED\u001b[0m\u001b[1;33m]\u001b[0m\u001b[1;33m:\u001b[0m\u001b[1;33m\u001b[0m\u001b[1;33m\u001b[0m\u001b[0m\n",
      "\u001b[1;32m~\\anaconda3\\lib\\threading.py\u001b[0m in \u001b[0;36mwait\u001b[1;34m(self, timeout)\u001b[0m\n\u001b[0;32m    300\u001b[0m         \u001b[1;32mtry\u001b[0m\u001b[1;33m:\u001b[0m    \u001b[1;31m# restore state no matter what (e.g., KeyboardInterrupt)\u001b[0m\u001b[1;33m\u001b[0m\u001b[1;33m\u001b[0m\u001b[0m\n\u001b[0;32m    301\u001b[0m             \u001b[1;32mif\u001b[0m \u001b[0mtimeout\u001b[0m \u001b[1;32mis\u001b[0m \u001b[1;32mNone\u001b[0m\u001b[1;33m:\u001b[0m\u001b[1;33m\u001b[0m\u001b[1;33m\u001b[0m\u001b[0m\n\u001b[1;32m--> 302\u001b[1;33m                 \u001b[0mwaiter\u001b[0m\u001b[1;33m.\u001b[0m\u001b[0macquire\u001b[0m\u001b[1;33m(\u001b[0m\u001b[1;33m)\u001b[0m\u001b[1;33m\u001b[0m\u001b[1;33m\u001b[0m\u001b[0m\n\u001b[0m\u001b[0;32m    303\u001b[0m                 \u001b[0mgotit\u001b[0m \u001b[1;33m=\u001b[0m \u001b[1;32mTrue\u001b[0m\u001b[1;33m\u001b[0m\u001b[1;33m\u001b[0m\u001b[0m\n\u001b[0;32m    304\u001b[0m             \u001b[1;32melse\u001b[0m\u001b[1;33m:\u001b[0m\u001b[1;33m\u001b[0m\u001b[1;33m\u001b[0m\u001b[0m\n",
      "\u001b[1;31mKeyboardInterrupt\u001b[0m: "
     ]
    }
   ],
   "source": [
    "rf_model = rf_model.fit(train_x, train_y)"
   ]
  },
  {
   "cell_type": "code",
   "execution_count": 180,
   "metadata": {},
   "outputs": [
    {
     "data": {
      "text/plain": [
       "{'max_depth': 2, 'max_features': 2, 'n_estimators': 100}"
      ]
     },
     "execution_count": 180,
     "metadata": {},
     "output_type": "execute_result"
    }
   ],
   "source": [
    "rf_model.best_params_"
   ]
  },
  {
   "cell_type": "code",
   "execution_count": 181,
   "metadata": {},
   "outputs": [
    {
     "data": {
      "text/plain": [
       "RandomForestRegressor(max_depth=2, max_features=2)"
      ]
     },
     "execution_count": 181,
     "metadata": {},
     "output_type": "execute_result"
    }
   ],
   "source": [
    "rf_model.best_estimator_"
   ]
  },
  {
   "cell_type": "code",
   "execution_count": 243,
   "metadata": {},
   "outputs": [],
   "source": [
    "rf_model_final = RandomForestRegressor(n_estimators=100, max_depth=2, max_features=2)"
   ]
  },
  {
   "cell_type": "code",
   "execution_count": 244,
   "metadata": {},
   "outputs": [],
   "source": [
    "rf_model_final = rf_model_final.fit(train_x, train_y)"
   ]
  },
  {
   "cell_type": "code",
   "execution_count": 245,
   "metadata": {},
   "outputs": [
    {
     "name": "stdout",
     "output_type": "stream",
     "text": [
      "MAPE\n",
      "train_MAPE : 0.11867876594562798\n",
      "test_MAPE : 0.11767445897031088\n",
      "------------------------------------------------------------------------------------------------------------\n",
      "RMSE\n",
      "train_RMSE : 1.5325297945158662\n",
      "test_RMSE : 1.5253041579098388\n",
      "------------------------------------------------------------------------------------------------------------\n",
      "RMSPE\n",
      "train_RMSPE : 0.16466896382775395\n",
      "test_RMSPE : 0.16280945292142956\n"
     ]
    }
   ],
   "source": [
    "model_metric_results(rf_model_final, train_x, train_y, test_x, test_y)"
   ]
  },
  {
   "cell_type": "markdown",
   "metadata": {},
   "source": [
    "### XGBoost Regressor"
   ]
  },
  {
   "cell_type": "code",
   "execution_count": 112,
   "metadata": {},
   "outputs": [],
   "source": [
    "# !pip install xgboost ------> we have to install xgboost if not already install on machine\n",
    "\n",
    "from xgboost import XGBRegressor"
   ]
  },
  {
   "cell_type": "code",
   "execution_count": 113,
   "metadata": {},
   "outputs": [],
   "source": [
    "# tuning parameters\n",
    "\n",
    "s_grid = {'learning_rate':[0.01,0.05,0.1], 'n_estimators':[60,70,80,100,200,300], 'max_depth':[2,3,4,5,6]}"
   ]
  },
  {
   "cell_type": "raw",
   "metadata": {},
   "source": [
    "# tuning with all parameteres\n",
    "\n",
    "grid = {'learning_rate':[0.001,0.05,0.01],\n",
    "       'n_estimators':[100,200,300],\n",
    "       'max_depth':[2,3,4],\n",
    "       'gamma':[0.5,0.6,1],\n",
    "       'min_child_weight':[0.3,0.4,0.5],\n",
    "       'sub_sample':[0.6,0.7,0.8],\n",
    "       'colsample_bytree':[0.7,0.8],\n",
    "       'reg_alpha':[0.4,0.5,0.6,0.7,0.8,1]}"
   ]
  },
  {
   "cell_type": "code",
   "execution_count": null,
   "metadata": {},
   "outputs": [],
   "source": [
    "xgb_model = GridSearchCV(XGBRegressor(), s_grid, cv=5, scoring='r2', n_jobs=-1, verbose=True)"
   ]
  },
  {
   "cell_type": "code",
   "execution_count": null,
   "metadata": {},
   "outputs": [
    {
     "name": "stdout",
     "output_type": "stream",
     "text": [
      "Fitting 10 folds for each of 90 candidates, totalling 900 fits\n"
     ]
    }
   ],
   "source": [
    "xgb_model = xgb_model.fit(train_x, train_y)"
   ]
  },
  {
   "cell_type": "code",
   "execution_count": 210,
   "metadata": {},
   "outputs": [
    {
     "data": {
      "text/plain": [
       "{'learning_rate': 0.05, 'max_depth': 2, 'n_estimators': 100}"
      ]
     },
     "execution_count": 210,
     "metadata": {},
     "output_type": "execute_result"
    }
   ],
   "source": [
    "xgb_model.best_params_"
   ]
  },
  {
   "cell_type": "code",
   "execution_count": 211,
   "metadata": {},
   "outputs": [
    {
     "data": {
      "text/plain": [
       "XGBRegressor(base_score=0.5, booster='gbtree', colsample_bylevel=1,\n",
       "             colsample_bynode=1, colsample_bytree=1, gamma=0, gpu_id=-1,\n",
       "             importance_type='gain', interaction_constraints='',\n",
       "             learning_rate=0.05, max_delta_step=0, max_depth=2,\n",
       "             min_child_weight=1, missing=nan, monotone_constraints='()',\n",
       "             n_estimators=100, n_jobs=8, num_parallel_tree=1, random_state=0,\n",
       "             reg_alpha=0, reg_lambda=1, scale_pos_weight=1, subsample=1,\n",
       "             tree_method='exact', validate_parameters=1, verbosity=None)"
      ]
     },
     "execution_count": 211,
     "metadata": {},
     "output_type": "execute_result"
    }
   ],
   "source": [
    "xgb_model.best_estimator_"
   ]
  },
  {
   "cell_type": "code",
   "execution_count": 212,
   "metadata": {},
   "outputs": [],
   "source": [
    "xgb_model_final = XGBRegressor(n_estimators=100, learning_rate=0.05, max_depth=2)"
   ]
  },
  {
   "cell_type": "code",
   "execution_count": 213,
   "metadata": {},
   "outputs": [],
   "source": [
    "xgb_model_final = xgb_model_final.fit(train_x, train_y)"
   ]
  },
  {
   "cell_type": "code",
   "execution_count": 252,
   "metadata": {},
   "outputs": [
    {
     "name": "stdout",
     "output_type": "stream",
     "text": [
      "MAPE\n",
      "train_MAPE : 0.11662633421118594\n",
      "test_MAPE : 0.11607136049323309\n",
      "------------------------------------------------------------------------------------------------------------\n",
      "RMSE\n",
      "train_RMSE : 1.5248545514356524\n",
      "test_RMSE : 1.5258092147786682\n",
      "------------------------------------------------------------------------------------------------------------\n",
      "RMSPE\n",
      "train_RMSPE : 0.16203070874646924\n",
      "test_RMSPE : 0.1611042247245405\n"
     ]
    }
   ],
   "source": [
    "model_metric_results(xgb_model_final, train_x, train_y, test_x, test_y)"
   ]
  },
  {
   "cell_type": "code",
   "execution_count": null,
   "metadata": {},
   "outputs": [],
   "source": []
  }
 ],
 "metadata": {
  "kernelspec": {
   "display_name": "Python 3",
   "language": "python",
   "name": "python3"
  },
  "language_info": {
   "codemirror_mode": {
    "name": "ipython",
    "version": 3
   },
   "file_extension": ".py",
   "mimetype": "text/x-python",
   "name": "python",
   "nbconvert_exporter": "python",
   "pygments_lexer": "ipython3",
   "version": "3.8.5"
  }
 },
 "nbformat": 4,
 "nbformat_minor": 4
}
